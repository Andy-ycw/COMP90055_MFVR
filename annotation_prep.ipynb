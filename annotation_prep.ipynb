{
 "cells": [
  {
   "cell_type": "code",
   "execution_count": 1,
   "metadata": {},
   "outputs": [
    {
     "name": "stdout",
     "output_type": "stream",
     "text": [
      "Intel MKL WARNING: Support of Intel(R) Streaming SIMD Extensions 4.2 (Intel(R) SSE4.2) enabled only processors has been deprecated. Intel oneAPI Math Kernel Library 2025.0 will require Intel(R) Advanced Vector Extensions (Intel(R) AVX) instructions.\n",
      "Intel MKL WARNING: Support of Intel(R) Streaming SIMD Extensions 4.2 (Intel(R) SSE4.2) enabled only processors has been deprecated. Intel oneAPI Math Kernel Library 2025.0 will require Intel(R) Advanced Vector Extensions (Intel(R) AVX) instructions.\n"
     ]
    }
   ],
   "source": [
    "import jsonpickle\n",
    "import matplotlib.pyplot as plt\n",
    "import numpy as np\n",
    "from ddr import DDR\n",
    "from random import shuffle\n",
    "import pandas as pd"
   ]
  },
  {
   "cell_type": "code",
   "execution_count": 2,
   "metadata": {},
   "outputs": [],
   "source": [
    "with open('./data/pickle_240227/voice.pickle', 'r') as f:\n",
    "    voice_dict = jsonpickle.decode(f.read())\n",
    "with open('./data/pickle_240227/yes.pickle', 'r') as f:\n",
    "    yes_dict = jsonpickle.decode(f.read())\n",
    "with open('./data/pickle_240227/no.pickle', 'r') as f:\n",
    "    no_dict = jsonpickle.decode(f.read())\n",
    "with open('./data/pickle_240227/wa.pickle', 'r') as f:\n",
    "    wa_dict = jsonpickle.decode(f.read())"
   ]
  },
  {
   "cell_type": "code",
   "execution_count": 3,
   "metadata": {},
   "outputs": [],
   "source": [
    "target_media = (\n",
    "    # ABC assume national reach. 230 articles.\n",
    "    ('ABC Premium News; Sydney', 'neutral', 'national'),\n",
    "    ('7.30; Sydney', 'neutral', 'national'),\n",
    "\n",
    "    # ACT. 951 articles. But Australian prolly national reach.\n",
    "    ('The Australian (Online); Canberra, A.C.T.', 'right', 'national'),\n",
    "    ('The Canberra Times; Canberra, A.C.T.', 'left', 'ACT'),\n",
    "    \n",
    "    # NSW\n",
    "    ('News.com.au; Sydney, N.S.W.', 'right', 'national'),\n",
    "    ('Sydney Morning Herald; Sydney, N.S.W.', 'left', 'NSW'),\n",
    "    ('Sun-Herald; Sydney, N.S.W.', 'left', 'NSW'),\n",
    "    ('The Daily Telegraph (Online); Surrey Hills, N.S.W.', 'right', 'NSW'),\n",
    "\n",
    "    # VIC\n",
    "    ('The Age; Melbourne, Vic.', 'left', 'VIC'),\n",
    "    ('Herald Sun; Melbourne, Vic.', 'left', 'VIC'),\n",
    "    ('Sunday Age; Melbourne, Vic.', 'left', 'VIC'),\n",
    "\n",
    "    # SA\n",
    "    ('The Advertiser; Adelaide, S. Aust.', 'right', 'SA'),\n",
    "    \n",
    "    # QLD\n",
    "    ('The Courier - Mail; Brisbane, Qld.', 'right', 'QLD'),\n",
    "    ('The Cairns Post; Cairns, Qld.', 'right', 'QLD'),\n",
    "    \n",
    "    # NT\n",
    "    ('The Northern Territory News; Darwin, N.T.', 'unclear', 'NT'),\n",
    "\n",
    "    # TAS\n",
    "    ('Advocate; Burnie, Tas.', 'unclear', 'TAS'),\n",
    "    ('The Examiner; Launceston, Tas.', 'unclear', 'TAS'),\n",
    "    ('The Mercury (Online); Hobart Town', 'unclear', 'TAS'),\n",
    "\n",
    "    # WA\n",
    "    ('The West Australian', 'unclear', 'WA'),\n",
    "    ('WAToday.com.au', 'unclear', 'WA')\n",
    ")\n",
    "\n"
   ]
  },
  {
   "cell_type": "code",
   "execution_count": 15,
   "metadata": {},
   "outputs": [],
   "source": [
    "def remove_duplicate(dic):\n",
    "    output = dict()\n",
    "    for k, v in dic.items():\n",
    "        k_components = k.split('-')\n",
    "        k_new = k_components[0] + '-' + k_components[2]\n",
    "        if k_new not in output:\n",
    "            output[k_new] = v\n",
    "    return output\n",
    "    \n",
    "\n",
    "voice_dict2 = remove_duplicate(voice_dict)\n",
    "yes_dict2 = remove_duplicate(yes_dict)\n",
    "no_dict2 = remove_duplicate(no_dict)\n",
    "wa_dict2 = remove_duplicate(wa_dict)"
   ]
  },
  {
   "cell_type": "code",
   "execution_count": 17,
   "metadata": {},
   "outputs": [
    {
     "data": {
      "text/plain": [
       "394"
      ]
     },
     "execution_count": 17,
     "metadata": {},
     "output_type": "execute_result"
    }
   ],
   "source": [
    "# The number below is the number of duplicates.\n",
    "test_dict = voice_dict\n",
    "len(test_dict) - len(set([list(key.split('-'))[0] + '-' + list(key.split('-'))[2] for key in list(test_dict.keys())]))"
   ]
  },
  {
   "cell_type": "code",
   "execution_count": 20,
   "metadata": {},
   "outputs": [
    {
     "data": {
      "text/plain": [
       "True"
      ]
     },
     "execution_count": 20,
     "metadata": {},
     "output_type": "execute_result"
    }
   ],
   "source": [
    "# The result below shows no duplicates in wa_dict2 and voice_dict2\n",
    "len(voice_dict2) + len(wa_dict2) == len(list(voice_dict2.keys())+list(wa_dict2.keys()))"
   ]
  },
  {
   "cell_type": "code",
   "execution_count": 24,
   "metadata": {},
   "outputs": [
    {
     "data": {
      "text/plain": [
       "33313"
      ]
     },
     "execution_count": 24,
     "metadata": {},
     "output_type": "execute_result"
    }
   ],
   "source": [
    "# Combined all dictionaries\n",
    "final_dict = {}\n",
    "dict_collection = [voice_dict2, yes_dict2, no_dict2, wa_dict2]\n",
    "for d in dict_collection:\n",
    "    for k, v in d.items():\n",
    "        final_dict[k] = v\n",
    "\n",
    "key_list = [k for k in final_dict.keys()]\n",
    "media_set = set([media_info[0] for media_info in target_media])\n",
    "paragraph_collection = []\n",
    "for key in key_list:\n",
    "    pub_title = final_dict[key]['pub_title']\n",
    "    if pub_title in media_set:\n",
    "        text = final_dict[key]['text']\n",
    "        paragraphs = text.split(\"\\n\")\n",
    "\n",
    "        # Collect paragraphs\n",
    "        paragraph_collection += [p for p in paragraphs if len(p.split())>=20 and len(p.split())<=60]\n",
    "len(paragraph_collection)"
   ]
  },
  {
   "cell_type": "code",
   "execution_count": 26,
   "metadata": {},
   "outputs": [
    {
     "name": "stdout",
     "output_type": "stream",
     "text": [
      "Abnormal tokens:  ['.', '.', '.', '-0.1573', '-0.29517', '0.30453', '-0.54773', '0.098293', '-0.1776', '0.21662', '0.19261', '-0.21101', '0.53788', '-0.047755', '0.40675', '0.023592', '-0.32814', '0.046858', '0.19367', '0.25565', '-0.021019', '-0.15957', '-0.1023', '0.20303', '-0.043333', '0.11618', '-0.18486', '0.0011948', '-0.052301', '0.34587', '0.052335', '0.16774', '-0.21384', '0.055947', '0.24934', '-0.12179', '0.16749', '0.28922', '-0.033739', '0.3015', '-0.13241', '0.092635', '0.37155', '-0.2884', '-0.0052731', '-0.001005', '-0.51153', '-0.28476', '-0.20139', '0.11837']\n",
      "Abnormal tokens:  ['at', 'name@domain.com', '0.0061218', '0.39595', '-0.22079', '0.78149', '0.38759', '0.28888', '0.18495', '-0.37328', '-0.60018', '0.19625', '0.42975', '0.17942', '0.06375', '-0.44127', '0.72035', '0.50539', '0.17985', '-0.71305', '0.11122', '0.19733', '0.063884', '0.023288', '0.017074', '0.04756', '-0.083167', '0.14506', '-0.21856', '-0.07979', '-0.058909', '-0.79864', '0.65868', '-0.45031', '0.41921', '-0.043908', '-0.059099', '0.21384', '-0.05214', '0.31267', '0.20417', '-0.66489', '-0.17885', '-0.13729', '-0.13825', '-0.59669', '-0.09297', '0.31121', '-0.027161', '0.17923']\n",
      "Abnormal tokens:  ['.', '.', '.', '.', '.', '-0.23773', '-0.82788', '0.82326', '-0.91878', '0.35868', '0.1309', '0.26195', '-0.30068', '0.42963', '-1.5335', '0.50492', '0.59069', '0.17763', '-0.010302', '-0.63371', '-0.040832', '0.69336', '-0.85472', '0.693', '-0.44824', '0.25476', '0.17091', '0.96056', '-0.26516', '0.17454', '-0.27371', '0.20591', '-0.60435', '-0.50923', '0.36049', '0.75756', '-0.79493', '0.12379', '0.40019', '0.56716', '0.19451', '0.15996', '-0.07882', '0.9756', '0.54761', '-0.25123', '-0.70006', '-0.78286', '-0.95702', '0.23045']\n",
      "Abnormal tokens:  ['to', 'name@domain.com', '0.33865', '0.12698', '-0.16885', '0.55476', '0.48296', '0.45018', '0.0094233', '-0.36575', '-0.87561', '-0.35802', '0.2379', '0.31284', '-0.081367', '0.061482', '0.81921', '0.77488', '0.68518', '-0.48005', '-0.012098', '0.53366', '0.038321', '0.26857', '0.56736', '0.20427', '0.2847', '0.68113', '-0.26921', '0.10099', '-0.33252', '-0.22999', '0.66003', '0.21833', '-0.086523', '-0.30044', '-0.42253', '0.47525', '-0.2165', '0.3268', '0.63515', '-0.15657', '-0.25835', '-0.11663', '-0.41092', '-0.73779', '-0.0015122', '0.14481', '0.13287', '0.26097']\n",
      "Abnormal tokens:  ['.', '.', '0.035974', '-0.024421', '0.71402', '-0.61127', '0.012771', '-0.11201', '0.16847', '-0.14069', '-0.053491', '-0.87539', '-0.13959', '0.29731', '0.072308', '-0.084514', '-0.1879', '0.12358', '0.37639', '-0.39238', '-0.01111', '-0.04924', '0.63649', '0.058814', '0.19076', '-0.20828', '-0.11036', '0.14934', '0.24667', '-0.39438', '0.22853', '-0.11201', '0.33539', '-0.32929', '-0.049727', '-0.090764', '0.29095', '0.27504', '0.22802', '-0.15616', '0.37302', '0.3752', '-0.3677', '0.1518', '-0.27551', '-0.63281', '-0.31298', '-0.22441', '-0.15435', '-0.64802']\n",
      "Abnormal tokens:  ['.', '.', '.', '.', '0.033459', '-0.085658', '0.27155', '-0.56132', '0.60419', '-0.027276', '-0.093992', '0.068236', '-0.3961', '-0.83028', '0.17456', '0.46373', '0.13719', '0.25598', '-0.33885', '0.18365', '0.44451', '-0.8193', '-0.081032', '-0.070653', '0.11253', '-0.0087314', '0.45494', '-0.13481', '-0.19651', '-0.0098954', '0.34683', '-0.010663', '-0.10555', '-0.027425', '0.46831', '-0.29624', '0.0027633', '-0.18621', '0.32282', '0.20276', '0.5976', '-0.15331', '0.52121', '0.59813', '-0.28581', '-0.23798', '-0.078883', '-0.64561', '0.03057', '0.28304']\n",
      "Abnormal tokens:  ['email', 'name@domain.com', '0.33529', '0.32949', '0.2646', '0.64219', '0.70701', '-0.074487', '-0.066128', '-0.30804', '-0.71712', '-0.65856', '0.21812', '0.20661', '0.079468', '-0.37277', '0.69841', '0.40459', '0.10838', '-0.84972', '0.084111', '-0.099199', '-0.15883', '-0.15245', '0.10664', '0.2866', '0.058125', '0.10893', '-0.042369', '-0.10781', '-0.10683', '-0.61831', '0.71169', '-0.4143', '0.46387', '0.11437', '0.11797', '0.78043', '0.15162', '0.050014', '0.27046', '-0.15689', '-0.35901', '-0.22091', '0.2174', '-0.53654', '-0.26149', '0.071581', '0.28225', '0.61944']\n",
      "Abnormal tokens:  ['or', 'name@domain.com', '0.48374', '0.49669', '-0.25089', '0.90389', '0.60307', '0.11141', '-0.021157', '0.10037', '-0.15173', '-1.0246', '0.27841', '-0.062042', '-0.061043', '-0.47401', '0.60886', '0.29636', '-0.077564', '-0.81931', '-0.023403', '0.30916', '0.029043', '-0.34372', '-0.20211', '0.17291', '-0.49248', '0.19652', '0.30329', '-0.023517', '0.062654', '-0.56825', '0.20126', '-0.66776', '0.064812', '-0.024986', '-0.081007', '0.38214', '-0.0035715', '0.40572', '0.090373', '-0.023844', '-0.14541', '0.049812', '0.054826', '-0.53691', '-0.14741', '-0.097398', '0.028146', '-0.011163']\n",
      "Abnormal tokens:  ['contact', 'name@domain.com', '0.016426', '0.13728', '0.18781', '0.75784', '0.44012', '0.096794', '0.060987', '0.31293', '-0.15884', '-1.2367', '0.43769', '0.10465', '0.048858', '-0.23182', '0.71125', '0.022376', '0.63524', '-1.4974', '0.12243', '-0.07386', '-0.021514', '-0.37652', '0.17503', '-0.011225', '-0.12668', '-0.0090601', '0.38418', '0.11132', '0.15851', '-0.47498', '0.33619', '-0.48833', '0.23423', '0.13258', '0.29362', '0.13526', '-0.05115', '-0.0055236', '0.27734', '-0.23565', '0.19571', '-0.29095', '0.062419', '-0.47502', '-0.71402', '-0.36384', '0.53562', '0.40136']\n",
      "Abnormal tokens:  ['Email', 'name@domain.com', '0.37344', '0.024573', '-0.12583', '0.36009', '0.25605', '0.07326', '0.3292', '-0.0037022', '-0.10145', '-1.8061', '0.17271', '0.40612', '0.14999', '0.077813', '0.87133', '0.37621', '0.2232', '-1.5266', '0.38978', '0.072969', '0.4398', '0.25206', '0.22285', '0.35195', '-0.15422', '-0.13137', '-0.033746', '-0.16894', '0.14939', '-0.85071', '0.8303', '-0.22077', '0.32756', '-0.46347', '0.15704', '0.15775', '-0.075318', '-0.024818', '-0.045062', '0.076934', '0.048395', '-0.72626', '0.46597', '-0.26966', '-0.58763', '0.23509', '0.41876', '0.38672']\n",
      "Abnormal tokens:  ['on', 'name@domain.com', '0.037295', '-0.15381', '-0.045189', '1.0566', '0.42898', '0.24093', '0.34305', '-0.090393', '-0.79877', '-1.2107', '0.31958', '0.46744', '-0.20072', '-0.61936', '0.69963', '0.70189', '0.58516', '-1.6244', '0.45742', '-0.10967', '-0.068128', '0.11185', '0.1758', '0.36282', '0.207', '0.085671', '-0.024428', '0.064891', '0.27972', '-0.62379', '0.11502', '-0.48324', '0.32067', '0.064549', '0.13098', '0.42373', '-0.2884', '0.062554', '0.28625', '-0.40777', '-0.15946', '-0.3914', '-0.18405', '-0.69952', '-0.41679', '-0.27461', '0.5992', '0.031153']\n",
      "Abnormal tokens:  ['At', 'Killerseats.com', '-0.13854', '-0.01706', '-0.13651', '0.1237', '0.15633', '-0.16556', '0.29374', '-0.064174', '0.3209', '-0.091516', '-0.017139', '-0.061828', '-0.17736', '-0.037355', '0.0015256', '-0.13485', '-0.1714', '-0.040029', '0.12924', '0.06956', '0.02036', '-0.011202', '0.0039595', '-0.1076', '-0.014068', '0.091797', '0.0064314', '-0.14604', '0.0039716', '-0.045866', '-0.16544', '-0.13641', '0.099001', '0.10089', '0.018211', '0.045112', '0.18615', '-0.018217', '-0.085986', '-0.13309', '-0.0047582', '-0.076491', '0.23942', '0.061977', '-0.11535', '-0.02209', '0.1325', '-0.0012518']\n",
      "Abnormal tokens:  ['by', 'name@domain.com', '0.6882', '-0.36436', '0.62079', '1.1482', '-0.055475', '-0.37936', '0.0064471', '-0.33046', '-0.43406', '-1.3468', '0.70312', '-0.41314', '-0.65868', '0.64324', '0.13018', '0.65846', '0.86269', '-0.93108', '0.3476', '0.73912', '-0.51405', '-0.15113', '0.27331', '0.51396', '-0.74688', '0.87989', '-0.11887', '0.3641', '0.37838', '0.36177', '-0.45182', '0.16173', '-0.36353', '-0.55643', '-1.1186', '0.70117', '-0.48075', '0.074095', '0.43022', '0.4625', '0.011133', '0.030287', '-0.73342', '-0.772', '0.31058', '0.022106', '-0.16845', '-0.70695']\n",
      "Abnormal tokens:  ['in', 'mylot.com', '-0.18148', '0.47096', '0.32916', '0.044196', '-0.93045', '-0.16299', '0.31996', '0.39017', '0.013753', '-1.0117', '1.4497', '0.14411', '0.09409', '-0.034215', '-0.11889', '-0.24614', '0.88631', '-0.62527', '0.1653', '0.17695', '-0.092857', '-0.82453', '-0.3729', '-0.32292', '-0.048221', '-0.42264', '0.11826', '0.17933', '-0.058891', '0.16458', '0.09932', '0.4913', '0.051474', '-0.059584', '-0.086531', '0.060116', '-0.24148', '0.34348', '0.011429', '0.046588', '0.33665', '-0.63822', '0.036459', '0.65724', '0.17596', '-0.33444', '-0.17779', '-0.047878']\n",
      "Abnormal tokens:  ['emailing', 'name@domain.com', '0.39173', '-0.39132', '-0.4266', '0.82429', '0.42919', '0.17601', '0.16663', '-0.011601', '-0.53551', '-1.255', '0.35066', '0.06361', '-0.70235', '-0.31163', '0.25379', '0.2463', '0.21129', '-1.5845', '0.19661', '-0.01602', '-0.54956', '-0.58445', '0.03272', '0.90671', '0.33191', '-0.52747', '0.32609', '0.53668', '-0.18302', '-0.49699', '0.069751', '-0.32102', '0.034384', '0.30422', '-0.37326', '0.73485', '-0.36973', '0.89839', '0.30623', '0.18463', '-0.23602', '-0.17', '0.34307', '0.026764', '-0.1685', '0.4373', '0.43021', '-0.17562']\n",
      "Abnormal tokens:  ['Contact', 'name@domain.com', '0.14933', '-0.28605', '0.3444', '0.29015', '-0.22999', '0.1271', '0.35722', '0.35118', '0.28224', '-1.3679', '0.44651', '-0.017463', '-0.12998', '0.39657', '0.71315', '0.11213', '0.70139', '-1.5873', '0.7609', '0.072771', '0.66317', '-0.33039', '0.31256', '-0.020889', '-0.47135', '0.3383', '0.53767', '0.057899', '-0.023796', '-0.31841', '0.23784', '-0.28834', '0.17782', '-0.5244', '0.29458', '0.44297', '0.53541', '-0.10591', '1.0599', '0.18864', '0.55033', '-0.50063', '0.022688', '-0.17678', '-0.70947', '-0.8091', '0.27532', '-0.048975']\n",
      "Abnormal tokens:  ['at', 'name@domain.com', '0.44321', '-0.40005', '-0.20065', '1.1209', '0.34041', '0.086082', '-0.067128', '0.0022702', '-0.94649', '-1.4669', '0.61248', '0.34827', '-0.20983', '-0.61434', '0.41102', '0.57759', '0.69071', '-1.9301', '0.75265', '-0.13238', '0.22003', '0.28856', '0.35234', '0.45989', '-0.21944', '0.1931', '-0.11664', '0.14996', '0.70354', '-0.039238', '0.55298', '-0.53503', '-0.3221', '-0.28595', '-0.1246', '0.054544', '-0.45937', '0.1447', '0.8203', '-0.33182', '0.10864', '-0.56552', '0.39898', '-0.65012', '-0.20285', '0.11557', '0.35711', '-0.23958']\n",
      "Abnormal tokens:  ['•', 'name@domain.com', '-0.13288', '-0.31383', '-0.032356', '0.52036', '-0.26985', '0.43339', '0.32587', '-0.51581', '-0.9806', '-1.5879', '0.73555', '0.35252', '-0.73296', '0.6446', '0.37158', '-0.26666', '0.21589', '-0.91457', '0.18992', '0.81333', '0.8067', '0.59507', '-0.5518', '0.48099', '0.12726', '0.03783', '0.24796', '0.50997', '0.075809', '-0.75845', '0.32875', '-0.29168', '0.057426', '-0.16102', '-0.68347', '0.86165', '0.2599', '-0.56354', '-0.040419', '-0.28022', '-0.20049', '0.0064199', '-0.45262', '-0.10725', '0.31171', '0.35856', '0.032082', '1.203']\n",
      "Abnormal tokens:  ['at', 'Amazon.com', '-0.5275', '-0.73685', '0.10968', '0.22214', '-0.30063', '-0.63201', '-0.053204', '-0.16241', '-0.33811', '-1.4072', '1.1837', '0.45468', '-0.84209', '-0.011505', '0.896', '0.03319', '0.26241', '-1.2644', '0.57994', '-0.23699', '-0.49705', '0.16729', '-0.18469', '0.12163', '0.23774', '-0.0997', '-0.3207', '0.56191', '-0.017743', '-0.32547', '0.014204', '-0.57266', '0.42053', '-0.020948', '-0.29288', '-0.086615', '0.46141', '0.28811', '0.30401', '-0.10123', '-0.90849', '0.36862', '0.40785', '-0.80729', '0.23232', '-0.14189', '0.3161', '0.049262']\n",
      "Abnormal tokens:  ['is', 'name@domain.com', '-0.1197', '0.10706', '-0.10519', '-0.12412', '0.4096', '-0.0287', '0.34704', '0.3549', '-0.24818', '-1.2408', '0.080013', '0.72535', '0.86863', '-0.044256', '0.91981', '0.7825', '1.1884', '-1.7801', '0.95549', '0.18023', '-0.47942', '0.6672', '0.06455', '-0.89756', '0.50649', '0.45807', '-0.4137', '0.29551', '-0.72757', '0.35583', '0.21081', '0.69184', '0.17948', '-0.38435', '-0.82156', '0.34316', '-0.2292', '-0.1174', '0.93835', '-0.24956', '-0.21212', '-1.2493', '0.34025', '-0.60752', '0.15362', '-0.38889', '0.27859', '-1.0553']\n"
     ]
    }
   ],
   "source": [
    "# Takes < 3 mins\n",
    "ddr = DDR()\n",
    "mf_ddr_result = [] \n",
    "\n",
    "for p in paragraph_collection:\n",
    "    mf_ddr_result.append(ddr.compute_similarity(p))"
   ]
  },
  {
   "cell_type": "code",
   "execution_count": 27,
   "metadata": {},
   "outputs": [
    {
     "data": {
      "text/plain": [
       "['care.virtue',\n",
       " 'care.vice',\n",
       " 'fairness.virtue',\n",
       " 'fairness.vice',\n",
       " 'loyalty.virtue',\n",
       " 'loyalty.vice',\n",
       " 'authority.virtue',\n",
       " 'authority.vice',\n",
       " 'sanctity.virtue',\n",
       " 'sanctity.vice']"
      ]
     },
     "execution_count": 27,
     "metadata": {},
     "output_type": "execute_result"
    }
   ],
   "source": [
    "mf_list = list(mf_ddr_result[0].keys())\n",
    "mf_list"
   ]
  },
  {
   "cell_type": "code",
   "execution_count": 28,
   "metadata": {},
   "outputs": [],
   "source": [
    "# Rank sentences based on similarity of DDR\n",
    "mf_ranks = dict()\n",
    "for mf in mf_list:\n",
    "    ascend_rank = np.argsort([mf_ddr[mf] for mf_ddr in mf_ddr_result])\n",
    "    mean = np.mean([mf_ddr[mf] for mf_ddr in mf_ddr_result])\n",
    "    stdev = np.std([mf_ddr[mf] for mf_ddr in mf_ddr_result])\n",
    "    \n",
    "    # Save information\n",
    "    if mf not in mf_ranks:\n",
    "        mf_ranks[mf] = dict()\n",
    "    mf_ranks[mf]['ascend_rank'] = ascend_rank\n",
    "    mf_ranks[mf]['mean'] = mean\n",
    "    mf_ranks[mf]['stdev'] = stdev\n",
    "\n",
    "    # Obtaining the sampling pool.\n",
    "    sample_idx_pool = []\n",
    "    for i in range(len(mf_ddr_result)):\n",
    "        sim_score = mf_ddr_result[i][mf]\n",
    "        if sim_score >= mean - stdev and sim_score <= mean + stdev:\n",
    "            sample_idx_pool.append(i)\n",
    "    mf_ranks[mf]['sample_idx_pool'] = sample_idx_pool\n"
   ]
  },
  {
   "cell_type": "code",
   "execution_count": 29,
   "metadata": {},
   "outputs": [],
   "source": [
    "# Sampling sentences for annotation.\n",
    "top_n = 50\n",
    "sampling_num = 50\n",
    "\n",
    "annotation_target_idx_collection = dict()\n",
    "for mf in mf_list:\n",
    "    top_indices = [idx for idx in mf_ranks[mf]['ascend_rank'][-top_n:]]\n",
    "    shuffle(mf_ranks[mf]['sample_idx_pool']) \n",
    "    sample_indices = [idx for idx in mf_ranks[mf]['sample_idx_pool'][:50]]\n",
    "\n",
    "    output_indices = top_indices + sample_indices\n",
    "    shuffle(output_indices)\n",
    "    assert len(output_indices) == len(top_indices) + len(sample_indices), print(len(output_indices))\n",
    "\n",
    "    annotation_target_idx_collection[mf] = output_indices"
   ]
  },
  {
   "cell_type": "code",
   "execution_count": 30,
   "metadata": {},
   "outputs": [],
   "source": [
    "# Mix annotation sentences across foundations, and output to an excel file.\n",
    "\n",
    "annotation_collection = {'Annotation unit': list()}\n",
    "for mf, idx_list in annotation_target_idx_collection.items():\n",
    "    annotation_collection['Annotation unit'] += [paragraph_collection[idx] for idx in idx_list]\n",
    "shuffle(annotation_collection['Annotation unit'])\n",
    "df = pd.DataFrame(annotation_collection)\n",
    "save_dir = './data/annotation.xlsx'\n",
    "\n",
    "with pd.ExcelWriter(save_dir) as writer:\n",
    "    df.to_excel(writer, sheet_name='Annotation_v1')"
   ]
  },
  {
   "cell_type": "code",
   "execution_count": null,
   "metadata": {},
   "outputs": [],
   "source": []
  }
 ],
 "metadata": {
  "kernelspec": {
   "display_name": "comp90055",
   "language": "python",
   "name": "python3"
  },
  "language_info": {
   "codemirror_mode": {
    "name": "ipython",
    "version": 3
   },
   "file_extension": ".py",
   "mimetype": "text/x-python",
   "name": "python",
   "nbconvert_exporter": "python",
   "pygments_lexer": "ipython3",
   "version": "3.10.13"
  }
 },
 "nbformat": 4,
 "nbformat_minor": 2
}
