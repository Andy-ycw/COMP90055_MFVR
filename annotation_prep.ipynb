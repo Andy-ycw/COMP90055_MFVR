{
 "cells": [
  {
   "cell_type": "code",
   "execution_count": 12,
   "metadata": {},
   "outputs": [],
   "source": [
    "import jsonpickle\n",
    "import matplotlib.pyplot as plt\n",
    "import numpy as np\n",
    "from ddr import DDR\n",
    "from random import shuffle\n",
    "import pandas as pd"
   ]
  },
  {
   "cell_type": "code",
   "execution_count": 15,
   "metadata": {},
   "outputs": [
    {
     "name": "stdout",
     "output_type": "stream",
     "text": [
      "Total paragraph number 33849\n"
     ]
    }
   ],
   "source": [
    "with open('./data/all_dict.pickle', 'r') as f:\n",
    "    all_dict = jsonpickle.decode(f.read())\n",
    "\n",
    "# Collect paragraph\n",
    "key_list = [key for key in all_dict.keys()]\n",
    "paragraph_collection = []\n",
    "for key in key_list:\n",
    "    text = all_dict[key]['text']\n",
    "    paragraphs = text.split(\"\\n\")\n",
    "    paragraph_collection += [p for p in paragraphs if len(p.split())>=20 and len(p.split())<=60]\n",
    "print('Total paragraph number', len(paragraph_collection))"
   ]
  },
  {
   "cell_type": "markdown",
   "metadata": {},
   "source": [
    "### Sample 10 articles to evaluate annotation candidates"
   ]
  },
  {
   "cell_type": "code",
   "execution_count": 18,
   "metadata": {},
   "outputs": [],
   "source": [
    "# Sample 10 articles\n",
    "with open('./data/all_dict.pickle', 'r') as f:\n",
    "    all_dict = jsonpickle.decode(f.read())\n",
    "key_list = [key for key in all_dict.keys()]\n",
    "shuffle(key_list)\n",
    "sample_keys = ['IssoabdaotVrTtsopsoiPotIVftfttbnmr-20230914'] + key_list[:9] \n",
    "\n",
    "# For each article, take each paragraph and run them through SpaCy\n",
    "list_df = []\n",
    "for key in sample_keys:\n",
    "    text = all_dict[key]['text']\n",
    "    paragraphs = [p.strip() for p in text.split(\"\\n\")]\n",
    "    df = pd.DataFrame({'paragraphs': paragraphs})\n",
    "    list_df.append(df)\n",
    "\n",
    "with pd.ExcelWriter('./data/annotaion_sample.xlsx') as writer:\n",
    "    for i in range(len(list_df)):\n",
    "        df = list_df[i]\n",
    "        df.to_excel(writer, sheet_name=f'article_{i}')"
   ]
  },
  {
   "cell_type": "code",
   "execution_count": null,
   "metadata": {},
   "outputs": [],
   "source": []
  },
  {
   "cell_type": "code",
   "execution_count": null,
   "metadata": {},
   "outputs": [],
   "source": [
    "\"\"\"Output to excel for manual labelling\"\"\"\n",
    "# with pd.ExcelWriter(save_dir) as writer:\n",
    "#     df.to_excel(writer, sheet_name='Annotation_v1')\n",
    "\n",
    "\"\"\"Use MFD2 counts as benchmark\"\"\"\n",
    "\"\"\"Use DDR\"\"\""
   ]
  },
  {
   "cell_type": "markdown",
   "metadata": {},
   "source": [
    "### Make annotation spreadsheet"
   ]
  },
  {
   "cell_type": "code",
   "execution_count": 2,
   "metadata": {},
   "outputs": [],
   "source": [
    "with open('./data/all_dict.pickle', 'r') as f:\n",
    "    all_dict = jsonpickle.decode(f.read())\n",
    "\n",
    "# Collect paragraph\n",
    "key_list = [key for key in all_dict.keys()]\n",
    "paragraph_collection = []\n",
    "for key in key_list:\n",
    "    text = all_dict[key]['text']\n",
    "    paragraphs = text.split(\"\\n\")\n",
    "    paragraph_collection += [p for p in paragraphs if len(p.split())>=20 and len(p.split())<=60]\n",
    "\n",
    "# Compute cosine similarity based on DDR\n",
    "# Takes < 3 mins\n",
    "ddr = DDR()\n",
    "mf_ddr_result = [] \n",
    "for p in paragraph_collection:\n",
    "    mf_ddr_result.append(ddr.compute_similarity(p))"
   ]
  },
  {
   "cell_type": "code",
   "execution_count": 28,
   "metadata": {},
   "outputs": [],
   "source": [
    "# Rank sentences based on similarity of DDR\n",
    "mf_list = list(mf_ddr_result[0].keys())\n",
    "mf_ranks = dict()\n",
    "for mf in mf_list:\n",
    "    ascend_rank = np.argsort([mf_ddr[mf] for mf_ddr in mf_ddr_result])\n",
    "    mean = np.mean([mf_ddr[mf] for mf_ddr in mf_ddr_result])\n",
    "    stdev = np.std([mf_ddr[mf] for mf_ddr in mf_ddr_result])\n",
    "    \n",
    "    # Save information\n",
    "    if mf not in mf_ranks:\n",
    "        mf_ranks[mf] = dict()\n",
    "    mf_ranks[mf]['ascend_rank'] = ascend_rank\n",
    "    mf_ranks[mf]['mean'] = mean\n",
    "    mf_ranks[mf]['stdev'] = stdev\n",
    "\n",
    "    # Obtaining the sampling pool.\n",
    "    sample_idx_pool = []\n",
    "    for i in range(len(mf_ddr_result)):\n",
    "        sim_score = mf_ddr_result[i][mf]\n",
    "        if sim_score >= mean - stdev and sim_score <= mean + stdev:\n",
    "            sample_idx_pool.append(i)\n",
    "    mf_ranks[mf]['sample_idx_pool'] = sample_idx_pool\n"
   ]
  },
  {
   "cell_type": "code",
   "execution_count": 29,
   "metadata": {},
   "outputs": [],
   "source": [
    "# Sampling sentences for annotation.\n",
    "top_n = 50\n",
    "sampling_num = 50\n",
    "\n",
    "annotation_target_idx_collection = dict()\n",
    "for mf in mf_list:\n",
    "    top_indices = [idx for idx in mf_ranks[mf]['ascend_rank'][-top_n:]]\n",
    "    shuffle(mf_ranks[mf]['sample_idx_pool']) \n",
    "    sample_indices = [idx for idx in mf_ranks[mf]['sample_idx_pool'][:50]]\n",
    "\n",
    "    output_indices = top_indices + sample_indices\n",
    "    shuffle(output_indices)\n",
    "    assert len(output_indices) == len(top_indices) + len(sample_indices), print(len(output_indices))\n",
    "\n",
    "    annotation_target_idx_collection[mf] = output_indices"
   ]
  },
  {
   "cell_type": "code",
   "execution_count": 30,
   "metadata": {},
   "outputs": [],
   "source": [
    "# Mix annotation sentences across foundations, and output to an excel file.\n",
    "\n",
    "annotation_collection = {'Annotation unit': list()}\n",
    "for mf, idx_list in annotation_target_idx_collection.items():\n",
    "    annotation_collection['Annotation unit'] += [paragraph_collection[idx] for idx in idx_list]\n",
    "shuffle(annotation_collection['Annotation unit'])\n",
    "df = pd.DataFrame(annotation_collection)\n",
    "save_dir = './data/annotation.xlsx'\n",
    "\n",
    "with pd.ExcelWriter(save_dir) as writer:\n",
    "    df.to_excel(writer, sheet_name='Annotation_v1')"
   ]
  },
  {
   "cell_type": "code",
   "execution_count": null,
   "metadata": {},
   "outputs": [],
   "source": []
  }
 ],
 "metadata": {
  "kernelspec": {
   "display_name": "comp90055",
   "language": "python",
   "name": "python3"
  },
  "language_info": {
   "codemirror_mode": {
    "name": "ipython",
    "version": 3
   },
   "file_extension": ".py",
   "mimetype": "text/x-python",
   "name": "python",
   "nbconvert_exporter": "python",
   "pygments_lexer": "ipython3",
   "version": "3.10.13"
  }
 },
 "nbformat": 4,
 "nbformat_minor": 2
}
