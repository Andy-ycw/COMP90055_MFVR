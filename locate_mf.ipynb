{
 "cells": [
  {
   "cell_type": "code",
   "execution_count": 1,
   "metadata": {},
   "outputs": [
    {
     "name": "stdout",
     "output_type": "stream",
     "text": [
      "Intel MKL WARNING: Support of Intel(R) Streaming SIMD Extensions 4.2 (Intel(R) SSE4.2) enabled only processors has been deprecated. Intel oneAPI Math Kernel Library 2025.0 will require Intel(R) Advanced Vector Extensions (Intel(R) AVX) instructions.\n",
      "Intel MKL WARNING: Support of Intel(R) Streaming SIMD Extensions 4.2 (Intel(R) SSE4.2) enabled only processors has been deprecated. Intel oneAPI Math Kernel Library 2025.0 will require Intel(R) Advanced Vector Extensions (Intel(R) AVX) instructions.\n"
     ]
    },
    {
     "name": "stderr",
     "output_type": "stream",
     "text": [
      "/Users/yu/miniconda3/envs/comp90055/lib/python3.10/site-packages/tqdm/auto.py:21: TqdmWarning: IProgress not found. Please update jupyter and ipywidgets. See https://ipywidgets.readthedocs.io/en/stable/user_install.html\n",
      "  from .autonotebook import tqdm as notebook_tqdm\n"
     ]
    }
   ],
   "source": [
    "from pickMFU import MFU_picker\n",
    "import spacy\n",
    "import jsonpickle\n",
    "from transformers import BertTokenizer\n",
    "\n",
    "# This load dictionaries for mfd, mfd2 and emfd\n",
    "from emfdscore.load_mfds import * \n"
   ]
  },
  {
   "cell_type": "code",
   "execution_count": 2,
   "metadata": {},
   "outputs": [],
   "source": [
    "mfu_picker = MFU_picker(tokenizer=BertTokenizer.from_pretrained('bert-base-uncased'))\n",
    "\n",
    "with open('./data/pickle_240227/voice.pickle', 'r') as f:\n",
    "    voice_dict = jsonpickle.decode(f.read())\n",
    "voice_keys = list(voice_dict.keys())"
   ]
  },
  {
   "cell_type": "code",
   "execution_count": 3,
   "metadata": {},
   "outputs": [],
   "source": [
    "result_list = list()\n",
    "for i in range(int(len(voice_keys))): # ~10 mins for the voice_dict\n",
    "    key = voice_keys[i]\n",
    "    content = voice_dict[key]\n",
    "    text = content['text']\n",
    "    \n",
    "    # result = mfu_picker.pickMFU_mfd(text)\n",
    "    # result = mfu_picker.pickMFU_emfd(text)\n",
    "    result = mfu_picker.pickMFU(text, mfd_ver='mfd2')\n",
    "    result_list.append(result)"
   ]
  },
  {
   "cell_type": "code",
   "execution_count": 6,
   "metadata": {},
   "outputs": [],
   "source": [
    "# Inspect result\n",
    "r = result_list[0]\n",
    "for j in range(len(result_list)):\n",
    "    r = result_list[j]\n",
    "    for i in range(len(r[1])):\n",
    "        moral_sent_index = r[1][i]\n",
    "        moral_sent = r[0][moral_sent_index]\n",
    "        moral_word_indices = r[2][i]\n",
    "        for ind in moral_word_indices:\n",
    "            word = moral_sent.split()[ind]\n",
    "\n",
    "            # Test mfd output\n",
    "            match = False\n",
    "            # for v in mfd_regex.keys():\n",
    "            #     if mfd_regex[v].match(word):\n",
    "            #         match = True\n",
    "            #         # print(word)\n",
    "            # if not match:\n",
    "            #     print('Sth is wrong')    \n",
    "\n",
    "            # if word not in emfd:\n",
    "            if word not in mfd2:\n",
    "                print(f'Sth is wrong: {word}')\n",
    "            else:\n",
    "                # print(word)\n",
    "                pass\n",
    "\n",
    "\n"
   ]
  },
  {
   "cell_type": "code",
   "execution_count": 7,
   "metadata": {},
   "outputs": [],
   "source": [
    "for i in range(len(voice_keys)):\n",
    "    key = voice_keys[i]\n",
    "    voice_dict[key]['mfd2_bert_uncased'] = result_list[i]\n",
    "\n",
    "save_path_template = \"./data/pickle_240227/\"\n",
    "\n",
    "with open(save_path_template+'voice_m2bu.pickle', 'w') as voice_file:\n",
    "    voice_file.write(jsonpickle.encode(voice_dict))"
   ]
  },
  {
   "cell_type": "code",
   "execution_count": 9,
   "metadata": {},
   "outputs": [
    {
     "data": {
      "text/plain": [
       "{'text': 'The next few weeks and months will allow much of the necessary analysis to be done. However, there is no time like the present for key players in this dismal affair to take accountability and begin reform.\\nThere is white-hot anger directed towards some of our big corporate entities – BHP, Rio Tinto, Wesfarmers, the big four banks and others – which, without consultation or consent from their shareholders, dived into the middle of a bitterly contested political dispute and poured millions of dollars of their shareholders’ money into partisan warfare.\\nIt is bad enough that millions of dollars were wasted on a flawed campaign and misconceived voice model that was grossly unpopular with the overwhelming majority of Australians.\\nThere is a \"particular madness\" to corporate Australia backing the Voice to Parliament, says Sky News host Amanda Stoker.\\nThe participation of these big corporations was a significant factor in ensuring the Yes campaign was a resounding failure – voters hate being lectured at.\\nThat this money was effectively an appropriation of shareholders’ money in pursuit of the private political views of some dominant company directors is also aggravating in the extreme. This aggravation is compounded by the fact the big end of town has been completely outplayed by the government and its union paymasters in the policy areas they do have a legitimate interest in, especially industrial relations.\\nWorst of all, though, was the sheer negligence and incompetence of these big companies and their boards.\\nThis is what demands accountability – meaning heads should roll – and reform for the future.\\nAs long ago as January 2021, Rio Tinto and BHP signalled their support for the voice.\\n“A referendum not only demands political courage, it demands courage from all of us,” BHP’s Mike Henry said. Courage? What about due diligence?\\nBy May 2021 more companies and professional services firms had put their names to advertisements in national newspapers stridently committing themselves to supporting the voice. Almost two dozen chief executives and chairmen from investment banks and super funds including John Wylie, Hamish Douglass, Geoff Wilson, Ben Gray and Ian Silk got on board early, too. At least those who, like Wylie, own their own firm were not spending other people’s money.\\nNot one of these very smart people had any idea at that point what model the voice would take. Eighteen of the nation’s leading law firms, including my old law firm Freehills, jumped aboard the voice train. Again, well before there were any actual words for them to interpret by applying their brilliant legal skills.\\nAnd that was the problem with all these firms, companies, chief executives and chairmen – they were signing on entirely blind to the final proposed wording to the Constitution. What on earth were these corporate masters of the universe thinking? Is this how they evaluate proposals in their day job? Is this how lawyers practised law at the office?\\nAt that time there was no indication from the then federal government about the intended legal form of the voice, let alone its powers, composition, procedures, term, resources, intended outcomes or objectives or any relevant limitations.\\nAll of these companies, firms and other entities had signed up to the voice on the basis of emotion and the vibe. They had done no due diligence and got no expert advice on any aspect of the voice for the simple reason that at that time not even the slightest details or even conceptual framework of the voice was known. It was the ultimate pig in a poke. Yet these corporations had signed up to it – whatever it turned out to be.\\nThis was not only a dereliction of directors’ fiduciary duties of care and skill (how can directors sign blank cheques in advance for unknown entities with unknown powers?) but would prove to be a disastrous contributor to the form of ridiculously overreaching model of the voice that was put to the referendum.\\nThe Albanese government knew, even before releasing wording, that it had corporate Australia in its pocket. These companies had abdicated the ability to influence the design of the voice in any way. They had in effect told the activists who would ultimately draft the language of the constitutional amendment: “Go your hardest, we will support whatever you come up with.”\\nThis folly was exactly the same as the blunder committed by Julian Leeser and Greg Craven. Leeser and Craven were the self-styled “constitutional conservatives” who helped come up with the idea of the voice and allowed themselves to be used by the activists who would dictate the final form of the constitutional amendment.\\nLeeser and Craven were ultimately critical of the final form of the amendment – Craven in particularly colourful language. But both swallowed their pride and the flawed words, and still supported the Yes side, with Leeser walking the streets drumming up support for Yes23.\\nThe surrender by Leeser and Craven, and by the corporations and law firms that signed on to the voice before words were settled, meant any chance of negotiating a more moderate form of proposed amendment was lost.\\nThere would be no compromise by having a non-justiciability clause or removing the reference to executive government or narrowing the remit of the voice to matters affecting Indigenous persons only or any of the large number of ways in which the ultimately proposed constitutional language could have been made more palatable. The possibility for any reasonable compromise of any kind went out the window as far back as 2021.\\nTo be clear, these “fixes” would not have made the voice acceptable in principle. I would still have opposed it and believe it would still have failed because it violated the principle of equal civic rights in the Constitution.\\nHowever, adopting a process that ensured the proposed amendment would be the most absurdly overreaching possibility available certainly made referendum success impossible and made the whole campaign much more divisive than it needed to be.\\nThe Albanese government and its departmental advisers were every bit as supine in negotiating reasonable wording as the alleged constitutional conservatives and the corporations, but the lessons for the government must await another day. Others too are on remand, awaiting judgment for another day.\\nRight now, corporate Australia is in the dock. What form of accountability should await the boards of our big companies?\\nThey deserve to be on the wrong end of class-action lawsuits for negligence and breach of duty but, sadly, the legal industry was so complicit in their failures this is unlikely.\\nHowever, there should be significant board resignations to atone for the diversion of shareholder funds to personal political objectives and for rampant negligence.\\nBoards should be prepared to forgo directors’ fees until shareholders are compensated for the loss of funds wasted by directors tilting at their personal political windmills. In an ideal world shareholders would enforce that result but, again, the big union-controlled industry fund shareholders are likely to have been so complicit in directors’ actions this is unlikely.\\nUltimately there needs to be a sea change in the level of politicisation of our big companies. This should be started by the Australian Institute of Company Directors, which is effectively the standard setter for company directors. That, too, faces barriers as the AICD itself has become significantly politicised and its own board was a prominent and one-sided supporter of the voice. However, one can only live in hope.\\nIf the board of the AICD collectively fell on its sword and brought in some change agents to depoliticise it, this might be the catalyst, and the example, that returns Australian corporations to a focus on shareholder interests and genuine corporate purpose rather than personal political goals.\\n\\n',\n",
       " 'title': 'Corporate heads must roll over reckless Indigenous voice to parliament advocacy',\n",
       " 'date': '20231017',\n",
       " 'publisher': 'Nationwide News Pty Ltd',\n",
       " 'pub_title': 'The Australian (Online); Canber ra, A.C.T.',\n",
       " 'source': 'Newspaper',\n",
       " 'doc': 'News',\n",
       " 'mfd_bert_uncased': [['the next few weeks and months will allow much of the necessary analysis to be done .',\n",
       "   'however , there is no time like the present for key players in this di ##sma ##l affair to take accountability and begin reform .',\n",
       "   'there is white - hot anger directed towards some of our big corporate entities – bhp , rio tin ##to , wes ##far ##mers , the big four banks and others – which , without consultation or consent from their shareholders , dive ##d into the middle of a bitterly contested political dispute and poured millions of dollars of their shareholders ’ money into partisan warfare .',\n",
       "   'it is bad enough that millions of dollars were wasted on a flawed campaign and mis ##con ##ce ##ive ##d voice model that was gross ##ly unpopular with the overwhelming majority of australians .',\n",
       "   'there is a \" particular madness \" to corporate australia backing the voice to parliament , says sky news host amanda stoke ##r .',\n",
       "   'the participation of these big corporations was a significant factor in ensuring the yes campaign was a res ##ound ##ing failure – voters hate being lectured at .',\n",
       "   'that this money was effectively an app ##ropriation of shareholders ’ money in pursuit of the private political views of some dominant company directors is also ag ##gra ##vating in the extreme .',\n",
       "   'this ag ##gra ##vation is compound ##ed by the fact the big end of town has been completely out ##play ##ed by the government and its union pay ##masters in the policy areas they do have a legitimate interest in , especially industrial relations .',\n",
       "   'worst of all , though , was the sheer negligence and inc ##omp ##ete ##nce of these big companies and their boards .',\n",
       "   'this is what demands accountability – meaning heads should roll – and reform for the future .',\n",
       "   'as long ago as january 2021 , rio tin ##to and bhp signal ##led their support for the voice .',\n",
       "   '“ a referendum not only demands political courage , it demands courage from all of us , ” bhp ’ s mike henry said .',\n",
       "   'courage ?',\n",
       "   'what about due dil ##igen ##ce ?',\n",
       "   'by may 2021 more companies and professional services firms had put their names to advertisements in national newspapers stride ##ntly committing themselves to supporting the voice .',\n",
       "   'almost two dozen chief executives and chair ##men from investment banks and super funds including john wylie , hamish douglass , geoff wilson , ben gray and ian silk got on board early , too .',\n",
       "   'at least those who , like wylie , own their own firm were not spending other people ’ s money .',\n",
       "   'not one of these very smart people had any idea at that point what model the voice would take .',\n",
       "   'eighteen of the nation ’ s leading law firms , including my old law firm free ##hill ##s , jumped aboard the voice train .',\n",
       "   'again , well before there were any actual words for them to interpret by applying their brilliant legal skills .',\n",
       "   'and that was the problem with all these firms , companies , chief executives and chair ##men – they were signing on entirely blind to the final proposed word ##ing to the constitution .',\n",
       "   'what on earth were these corporate masters of the universe thinking ?',\n",
       "   'is this how they evaluate proposals in their day job ?',\n",
       "   'is this how lawyers practised law at the office ?',\n",
       "   'at that time there was no indication from the then federal government about the intended legal form of the voice , let alone its powers , composition , procedures , term , resources , intended outcomes or objectives or any relevant limitations .',\n",
       "   'all of these companies , firms and other entities had signed up to the voice on the basis of emotion and the vibe .',\n",
       "   'they had done no due dil ##igen ##ce and got no expert advice on any aspect of the voice for the simple reason that at that time not even the slightest details or even conceptual framework of the voice was known .',\n",
       "   'it was the ultimate pig in a poke .',\n",
       "   'yet these corporations had signed up to it – whatever it turned out to be .',\n",
       "   'this was not only a derelict ##ion of directors ’ fi ##du ##cia ##ry duties of care and skill ( how can directors sign blank che ##ques in advance for unknown entities with unknown powers ? ) but would prove to be a disastrous contributor to the form of ridiculous ##ly over ##rea ##ching model of the voice that was put to the referendum .',\n",
       "   'the alba ##nese government knew , even before releasing word ##ing , that it had corporate australia in its pocket .',\n",
       "   'these companies had abd ##icated the ability to influence the design of the voice in any way .',\n",
       "   'they had in effect told the activists who would ultimately draft the language of the constitutional amendment : “ go your hardest , we will support whatever you come up with . ”',\n",
       "   'this folly was exactly the same as the blu ##nder committed by julian lee ##ser and greg craven .',\n",
       "   'lee ##ser and craven were the self - styled “ constitutional conservatives ” who helped come up with the idea of the voice and allowed themselves to be used by the activists who would di ##cta ##te the final form of the constitutional amendment .',\n",
       "   'lee ##ser and craven were ultimately critical of the final form of the amendment – craven in particularly colourful language .',\n",
       "   'but both swallowed their pride and the flawed words , and still supported the yes side , with lee ##ser walking the streets drumming up support for yes ##23 .',\n",
       "   'the surrender by lee ##ser and craven , and by the corporations and law firms that signed on to the voice before words were settled , meant any chance of negotiating a more moderate form of proposed amendment was lost .',\n",
       "   'there would be no compromise by having a non - just ##icia ##bility clause or removing the reference to executive government or narrowing the re ##mit of the voice to matters affecting indigenous persons only or any of the large number of ways in which the ultimately proposed constitutional language could have been made more pal ##atable .',\n",
       "   'the possibility for any reasonable compromise of any kind went out the window as far back as 2021 .',\n",
       "   'to be clear , these “ fix ##es ” would not have made the voice acceptable in principle .',\n",
       "   'i would still have opposed it and believe it would still have failed because it violated the principle of equal civic rights in the constitution .',\n",
       "   'however , adopting a process that ensured the proposed amendment would be the most absurd ##ly over ##rea ##ching possibility available certainly made referendum success impossible and made the whole campaign much more di ##vis ##ive than it needed to be .',\n",
       "   'the alba ##nese government and its departmental advisers were every bit as su ##pine in negotiating reasonable word ##ing as the alleged constitutional conservatives and the corporations , but the lessons for the government must await another day .',\n",
       "   'others too are on re ##man ##d , awaiting judgment for another day .',\n",
       "   'right now , corporate australia is in the dock .',\n",
       "   'what form of accountability should await the boards of our big companies ?',\n",
       "   'they deserve to be on the wrong end of class - action lawsuits for negligence and breach of duty but , sadly , the legal industry was so com ##pl ##ici ##t in their failures this is unlikely .',\n",
       "   'however , there should be significant board resignation ##s to at ##one for the diversion of shareholder funds to personal political objectives and for rampant negligence .',\n",
       "   'boards should be prepared to for ##go directors ’ fees until shareholders are compensated for the loss of funds wasted by directors tilting at their personal political windmill ##s .',\n",
       "   'in an ideal world shareholders would enforce that result but , again , the big union - controlled industry fund shareholders are likely to have been so com ##pl ##ici ##t in directors ’ actions this is unlikely .',\n",
       "   'ultimately there needs to be a sea change in the level of pol ##itic ##isation of our big companies .',\n",
       "   'this should be started by the australian institute of company directors , which is effectively the standard set ##ter for company directors .',\n",
       "   'that , too , faces barriers as the ai ##cd itself has become significantly pol ##itic ##ised and its own board was a prominent and one - sided supporter of the voice .',\n",
       "   'however , one can only live in hope .',\n",
       "   'if the board of the ai ##cd collectively fell on its sword and brought in some change agents to de ##pol ##itic ##ise it , this might be the catalyst , and the example , that returns australian corporations to a focus on shareholder interests and genuine corporate purpose rather than personal political goals .'],\n",
       "  [3, 14, 18, 19, 23, 24, 29, 37, 39, 40, 41, 43, 47, 50, 55],\n",
       "  [[2, 24],\n",
       "   [16],\n",
       "   [3, 7, 13],\n",
       "   [17],\n",
       "   [5],\n",
       "   [15],\n",
       "   [14, 16],\n",
       "   [13],\n",
       "   [4],\n",
       "   [17],\n",
       "   [17, 19, 21],\n",
       "   [16],\n",
       "   [6, 9, 18, 24],\n",
       "   [2],\n",
       "   [7]],\n",
       "  [[['moral'], ['sanctity.vice']],\n",
       "   [['loyalty.virtue']],\n",
       "   [['loyalty.virtue'], ['authority.virtue'], ['authority.virtue']],\n",
       "   [['authority.virtue', 'moral']],\n",
       "   [['authority.virtue']],\n",
       "   [['authority.virtue', 'moral']],\n",
       "   [['authority.virtue'], ['care.virtue']],\n",
       "   [['authority.virtue']],\n",
       "   [['fairness.virtue']],\n",
       "   [['moral']],\n",
       "   [['moral'], ['fairness.virtue'], ['fairness.virtue']],\n",
       "   [['fairness.virtue']],\n",
       "   [['moral'],\n",
       "    ['authority.virtue'],\n",
       "    ['authority.virtue'],\n",
       "    ['authority.virtue', 'moral']],\n",
       "   [['moral']],\n",
       "   [['loyalty.virtue']]]]}"
      ]
     },
     "execution_count": 9,
     "metadata": {},
     "output_type": "execute_result"
    }
   ],
   "source": [
    "# For the testing of reading pickled content\n",
    "voice_dict_loaded = None\n",
    "with open('./data/pickle_240227/voice_mbu.pickle', 'r') as f:\n",
    "    voice_dict_loaded = jsonpickle.decode(f.read())\n",
    "voice_dict_loaded[voice_keys[7]]"
   ]
  },
  {
   "cell_type": "code",
   "execution_count": 6,
   "metadata": {},
   "outputs": [
    {
     "data": {
      "text/plain": [
       "[42, 46, 69, 21, 49]"
      ]
     },
     "execution_count": 6,
     "metadata": {},
     "output_type": "execute_result"
    }
   ],
   "source": [
    "sent_len_list = list()\n",
    "for i in range(len(voice_keys)):\n",
    "    key = voice_keys[i]\n",
    "    for sent in voice_dict_loaded[key]['mfd_bert_uncased'][0]:\n",
    "        sent_len_list.append(len(sent.split()))\n",
    "\n",
    "# voice_dict_loaded[voice_keys[7]]['mfd_bert_uncased'][0][3].split(\" \")[24-5:24+5]"
   ]
  },
  {
   "cell_type": "code",
   "execution_count": 10,
   "metadata": {},
   "outputs": [
    {
     "data": {
      "text/plain": [
       "36.0"
      ]
     },
     "execution_count": 10,
     "metadata": {},
     "output_type": "execute_result"
    }
   ],
   "source": [
    "import numpy as np\n",
    "np.percentile(sent_len_list, 75)"
   ]
  },
  {
   "cell_type": "code",
   "execution_count": 11,
   "metadata": {},
   "outputs": [
    {
     "data": {
      "text/plain": [
       "'it is bad enough that millions of dollars were wasted on a flawed campaign and mis ##con ##ce ##ive ##d voice model that was gross ##ly unpopular with the overwhelming majority of australians .'"
      ]
     },
     "execution_count": 11,
     "metadata": {},
     "output_type": "execute_result"
    }
   ],
   "source": [
    "voice_dict_loaded[voice_keys[7]]['mfd_bert_uncased'][0][3]"
   ]
  }
 ],
 "metadata": {
  "kernelspec": {
   "display_name": "comp90055",
   "language": "python",
   "name": "python3"
  },
  "language_info": {
   "codemirror_mode": {
    "name": "ipython",
    "version": 3
   },
   "file_extension": ".py",
   "mimetype": "text/x-python",
   "name": "python",
   "nbconvert_exporter": "python",
   "pygments_lexer": "ipython3",
   "version": "3.10.13"
  }
 },
 "nbformat": 4,
 "nbformat_minor": 2
}
