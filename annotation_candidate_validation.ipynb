{
 "cells": [
  {
   "cell_type": "code",
   "execution_count": 1,
   "metadata": {},
   "outputs": [
    {
     "name": "stdout",
     "output_type": "stream",
     "text": [
      "Intel MKL WARNING: Support of Intel(R) Streaming SIMD Extensions 4.2 (Intel(R) SSE4.2) enabled only processors has been deprecated. Intel oneAPI Math Kernel Library 2025.0 will require Intel(R) Advanced Vector Extensions (Intel(R) AVX) instructions.\n",
      "Intel MKL WARNING: Support of Intel(R) Streaming SIMD Extensions 4.2 (Intel(R) SSE4.2) enabled only processors has been deprecated. Intel oneAPI Math Kernel Library 2025.0 will require Intel(R) Advanced Vector Extensions (Intel(R) AVX) instructions.\n"
     ]
    }
   ],
   "source": [
    "import pandas as pd\n",
    "from annotation_data_model import AnnotationSample"
   ]
  },
  {
   "cell_type": "markdown",
   "metadata": {},
   "source": [
    "### Sentence level (Independent from article level)\n",
    "- Conclusion: \n",
    "    - mfd2 seems better in dictionary based methods. DDR is slightly better than mfd2\n",
    "    - Vice percentage is low 0.8 quantile = 0; 0.9 quantile = 1"
   ]
  },
  {
   "cell_type": "code",
   "execution_count": 2,
   "metadata": {},
   "outputs": [],
   "source": [
    "# Collect results from the methods.\n",
    "methods = ['mfd', 'mfd2', 'emfd', 'ddr']\n",
    "moral_foundations = ['care', 'fairness', 'authority', 'loyalty', 'sanctity']\n",
    "\n",
    "final_result_dict_t5 = dict()\n",
    "final_result_dict_t10 = dict()\n",
    "final_result_dict_t20 = dict()\n",
    "for method in methods:\n",
    "    final_result_dict_t5[method] = {mf: None for mf in moral_foundations}\n",
    "    final_result_dict_t10[method] = {mf: None for mf in moral_foundations}\n",
    "    final_result_dict_t20[method] = {mf: None for mf in moral_foundations}"
   ]
  },
  {
   "cell_type": "markdown",
   "metadata": {},
   "source": [
    "##### Count based"
   ]
  },
  {
   "cell_type": "code",
   "execution_count": 3,
   "metadata": {},
   "outputs": [],
   "source": [
    "# file_path = './data/annotaion_sample.xlsx'\n",
    "file_path = './data/annotaion_sample_v1 copy.xlsx'\n",
    "article_number = 10\n",
    "\n",
    "mfd_vers = {\n",
    "    'mfd': None, \n",
    "    'mfd2': None, \n",
    "    'emfd': None\n",
    "}\n",
    "\n",
    "for mfd_ver in mfd_vers.keys():\n",
    "    sample = AnnotationSample(file_path, article_number)\n",
    "    sample.compute_mfd_count(mfd_ver)\n",
    "\n",
    "    df_list = []\n",
    "    for i in range(len(sample.excel_sheets)):\n",
    "        df = sample.excel_sheets[i]\n",
    "        df_list.append(df)\n",
    "        df[f'{mfd_ver}_match_len'] = df[f'{mfd_ver}_match'].apply(lambda x: len(x) if x is not None else 0)\n",
    "    \n",
    "    mfd_vers[mfd_ver] = pd.concat(df_list)\n",
    "    mfd_vers[mfd_ver] = mfd_vers[mfd_ver].reset_index(drop=True)"
   ]
  },
  {
   "cell_type": "code",
   "execution_count": 8,
   "metadata": {},
   "outputs": [
    {
     "data": {
      "text/plain": [
       "paragraphs                   REPORTER: Donning his Yes hoodie, the Prime Mi...\n",
       "MF Relevance                                                               128\n",
       "YES/NO Argument Relevance                                                   33\n",
       "care+                                                                      8.0\n",
       "care-                                                                     17.0\n",
       "fairness+                                                                  6.0\n",
       "fairness-                                                                 24.0\n",
       "authority+                                                                 9.0\n",
       "authority-                                                                22.0\n",
       "loyalty+                                                                  30.0\n",
       "loyalty-                                                                   6.0\n",
       "sanctity+                                                                  4.0\n",
       "sanctity-                                                                  6.0\n",
       "mfd_count_info               (0, {'care': 0, 'fairness': 0, 'authority': 0,...\n",
       "mfd_count                                                                  190\n",
       "care                                                                        34\n",
       "fairness                                                                    19\n",
       "authority                                                                   39\n",
       "loyalty                                                                     74\n",
       "sanctity                                                                     2\n",
       "vice_count                                                                  28\n",
       "mfd_match_len                                                              185\n",
       "vice percentage                                                           20.0\n",
       "dtype: object"
      ]
     },
     "execution_count": 8,
     "metadata": {},
     "output_type": "execute_result"
    }
   ],
   "source": [
    "# Detail annotation result\n",
    "mfd_ver = 'mfd'\n",
    "df_mfd = mfd_vers[mfd_ver]\n",
    "df_mfd.sum()\n",
    "\n",
    "# df_agg = df_mfd.groupby(f'{mfd_ver}_match_len').count()[['MF Relevance']]\n",
    "# df_agg = df_agg.rename(columns={'MF Relevance': 'count_all'})\n",
    "# df_agg['count_relevant'] = df_mfd.groupby(f'{mfd_ver}_match_len').sum()[['MF Relevance']]\n",
    "# df_agg['percentage'] = df_agg['count_relevant'] / df_agg['count_all']\n",
    "# print(df_agg)\n",
    "# df_agg.plot(y='percentage', use_index=True)\n",
    "\n",
    "# moral_foundations = ['care', 'fairness', 'authority', 'loyalty', 'sanctity']\n",
    "# for mf in moral_foundations:\n",
    "#     recall_t5 = df_mfd.sort_values(by=mf).tail(5)['MF Relevance'].sum()/5\n",
    "#     recall_t10 = df_mfd.sort_values(by=mf).tail(10)['MF Relevance'].sum()/10\n",
    "#     recall_t20 = df_mfd.sort_values(by=mf).tail(20)['MF Relevance'].sum()/20\n",
    "#     final_result_dict_t5[mfd_ver][mf] = recall_t5\n",
    "#     final_result_dict_t10[mfd_ver][mf] = recall_t10\n",
    "#     final_result_dict_t20[mfd_ver][mf] = recall_t20\n",
    "#     print(f'{mf} precision:', recall_t10)"
   ]
  },
  {
   "cell_type": "code",
   "execution_count": 4,
   "metadata": {},
   "outputs": [
    {
     "data": {
      "text/html": [
       "<div>\n",
       "<style scoped>\n",
       "    .dataframe tbody tr th:only-of-type {\n",
       "        vertical-align: middle;\n",
       "    }\n",
       "\n",
       "    .dataframe tbody tr th {\n",
       "        vertical-align: top;\n",
       "    }\n",
       "\n",
       "    .dataframe thead th {\n",
       "        text-align: right;\n",
       "    }\n",
       "</style>\n",
       "<table border=\"1\" class=\"dataframe\">\n",
       "  <thead>\n",
       "    <tr style=\"text-align: right;\">\n",
       "      <th></th>\n",
       "      <th>paragraphs</th>\n",
       "      <th>MF Relevance</th>\n",
       "      <th>YES/NO Argument Relevance</th>\n",
       "      <th>care+</th>\n",
       "      <th>care-</th>\n",
       "      <th>fairness+</th>\n",
       "      <th>fairness-</th>\n",
       "      <th>authority+</th>\n",
       "      <th>authority-</th>\n",
       "      <th>loyalty+</th>\n",
       "      <th>...</th>\n",
       "      <th>mfd_count_info</th>\n",
       "      <th>mfd_count</th>\n",
       "      <th>care</th>\n",
       "      <th>fairness</th>\n",
       "      <th>authority</th>\n",
       "      <th>loyalty</th>\n",
       "      <th>sanctity</th>\n",
       "      <th>vice_count</th>\n",
       "      <th>mfd_match</th>\n",
       "      <th>mfd_match_len</th>\n",
       "    </tr>\n",
       "    <tr>\n",
       "      <th>vice percentage</th>\n",
       "      <th></th>\n",
       "      <th></th>\n",
       "      <th></th>\n",
       "      <th></th>\n",
       "      <th></th>\n",
       "      <th></th>\n",
       "      <th></th>\n",
       "      <th></th>\n",
       "      <th></th>\n",
       "      <th></th>\n",
       "      <th></th>\n",
       "      <th></th>\n",
       "      <th></th>\n",
       "      <th></th>\n",
       "      <th></th>\n",
       "      <th></th>\n",
       "      <th></th>\n",
       "      <th></th>\n",
       "      <th></th>\n",
       "      <th></th>\n",
       "      <th></th>\n",
       "    </tr>\n",
       "  </thead>\n",
       "  <tbody>\n",
       "    <tr>\n",
       "      <th>0.000000</th>\n",
       "      <td>102</td>\n",
       "      <td>102</td>\n",
       "      <td>102</td>\n",
       "      <td>102</td>\n",
       "      <td>102</td>\n",
       "      <td>102</td>\n",
       "      <td>102</td>\n",
       "      <td>102</td>\n",
       "      <td>102</td>\n",
       "      <td>102</td>\n",
       "      <td>...</td>\n",
       "      <td>102</td>\n",
       "      <td>102</td>\n",
       "      <td>102</td>\n",
       "      <td>102</td>\n",
       "      <td>102</td>\n",
       "      <td>102</td>\n",
       "      <td>102</td>\n",
       "      <td>102</td>\n",
       "      <td>102</td>\n",
       "      <td>102</td>\n",
       "    </tr>\n",
       "    <tr>\n",
       "      <th>0.333333</th>\n",
       "      <td>4</td>\n",
       "      <td>4</td>\n",
       "      <td>4</td>\n",
       "      <td>4</td>\n",
       "      <td>4</td>\n",
       "      <td>4</td>\n",
       "      <td>4</td>\n",
       "      <td>4</td>\n",
       "      <td>4</td>\n",
       "      <td>4</td>\n",
       "      <td>...</td>\n",
       "      <td>4</td>\n",
       "      <td>4</td>\n",
       "      <td>4</td>\n",
       "      <td>4</td>\n",
       "      <td>4</td>\n",
       "      <td>4</td>\n",
       "      <td>4</td>\n",
       "      <td>4</td>\n",
       "      <td>4</td>\n",
       "      <td>4</td>\n",
       "    </tr>\n",
       "    <tr>\n",
       "      <th>0.500000</th>\n",
       "      <td>4</td>\n",
       "      <td>4</td>\n",
       "      <td>4</td>\n",
       "      <td>4</td>\n",
       "      <td>4</td>\n",
       "      <td>4</td>\n",
       "      <td>4</td>\n",
       "      <td>4</td>\n",
       "      <td>4</td>\n",
       "      <td>4</td>\n",
       "      <td>...</td>\n",
       "      <td>4</td>\n",
       "      <td>4</td>\n",
       "      <td>4</td>\n",
       "      <td>4</td>\n",
       "      <td>4</td>\n",
       "      <td>4</td>\n",
       "      <td>4</td>\n",
       "      <td>4</td>\n",
       "      <td>4</td>\n",
       "      <td>4</td>\n",
       "    </tr>\n",
       "    <tr>\n",
       "      <th>0.666667</th>\n",
       "      <td>1</td>\n",
       "      <td>1</td>\n",
       "      <td>1</td>\n",
       "      <td>1</td>\n",
       "      <td>1</td>\n",
       "      <td>1</td>\n",
       "      <td>1</td>\n",
       "      <td>1</td>\n",
       "      <td>1</td>\n",
       "      <td>1</td>\n",
       "      <td>...</td>\n",
       "      <td>1</td>\n",
       "      <td>1</td>\n",
       "      <td>1</td>\n",
       "      <td>1</td>\n",
       "      <td>1</td>\n",
       "      <td>1</td>\n",
       "      <td>1</td>\n",
       "      <td>1</td>\n",
       "      <td>1</td>\n",
       "      <td>1</td>\n",
       "    </tr>\n",
       "    <tr>\n",
       "      <th>1.000000</th>\n",
       "      <td>12</td>\n",
       "      <td>12</td>\n",
       "      <td>12</td>\n",
       "      <td>12</td>\n",
       "      <td>12</td>\n",
       "      <td>12</td>\n",
       "      <td>12</td>\n",
       "      <td>12</td>\n",
       "      <td>12</td>\n",
       "      <td>12</td>\n",
       "      <td>...</td>\n",
       "      <td>12</td>\n",
       "      <td>12</td>\n",
       "      <td>12</td>\n",
       "      <td>12</td>\n",
       "      <td>12</td>\n",
       "      <td>12</td>\n",
       "      <td>12</td>\n",
       "      <td>12</td>\n",
       "      <td>12</td>\n",
       "      <td>12</td>\n",
       "    </tr>\n",
       "    <tr>\n",
       "      <th>2.000000</th>\n",
       "      <td>2</td>\n",
       "      <td>2</td>\n",
       "      <td>2</td>\n",
       "      <td>2</td>\n",
       "      <td>2</td>\n",
       "      <td>2</td>\n",
       "      <td>2</td>\n",
       "      <td>2</td>\n",
       "      <td>2</td>\n",
       "      <td>2</td>\n",
       "      <td>...</td>\n",
       "      <td>2</td>\n",
       "      <td>2</td>\n",
       "      <td>2</td>\n",
       "      <td>2</td>\n",
       "      <td>2</td>\n",
       "      <td>2</td>\n",
       "      <td>2</td>\n",
       "      <td>2</td>\n",
       "      <td>2</td>\n",
       "      <td>2</td>\n",
       "    </tr>\n",
       "  </tbody>\n",
       "</table>\n",
       "<p>6 rows × 23 columns</p>\n",
       "</div>"
      ],
      "text/plain": [
       "                 paragraphs  MF Relevance  YES/NO Argument Relevance  care+  \\\n",
       "vice percentage                                                               \n",
       "0.000000                102           102                        102    102   \n",
       "0.333333                  4             4                          4      4   \n",
       "0.500000                  4             4                          4      4   \n",
       "0.666667                  1             1                          1      1   \n",
       "1.000000                 12            12                         12     12   \n",
       "2.000000                  2             2                          2      2   \n",
       "\n",
       "                 care-  fairness+  fairness-  authority+  authority-  \\\n",
       "vice percentage                                                        \n",
       "0.000000           102        102        102         102         102   \n",
       "0.333333             4          4          4           4           4   \n",
       "0.500000             4          4          4           4           4   \n",
       "0.666667             1          1          1           1           1   \n",
       "1.000000            12         12         12          12          12   \n",
       "2.000000             2          2          2           2           2   \n",
       "\n",
       "                 loyalty+  ...  mfd_count_info  mfd_count  care  fairness  \\\n",
       "vice percentage            ...                                              \n",
       "0.000000              102  ...             102        102   102       102   \n",
       "0.333333                4  ...               4          4     4         4   \n",
       "0.500000                4  ...               4          4     4         4   \n",
       "0.666667                1  ...               1          1     1         1   \n",
       "1.000000               12  ...              12         12    12        12   \n",
       "2.000000                2  ...               2          2     2         2   \n",
       "\n",
       "                 authority  loyalty  sanctity  vice_count  mfd_match  \\\n",
       "vice percentage                                                        \n",
       "0.000000               102      102       102         102        102   \n",
       "0.333333                 4        4         4           4          4   \n",
       "0.500000                 4        4         4           4          4   \n",
       "0.666667                 1        1         1           1          1   \n",
       "1.000000                12       12        12          12         12   \n",
       "2.000000                 2        2         2           2          2   \n",
       "\n",
       "                 mfd_match_len  \n",
       "vice percentage                 \n",
       "0.000000                   102  \n",
       "0.333333                     4  \n",
       "0.500000                     4  \n",
       "0.666667                     1  \n",
       "1.000000                    12  \n",
       "2.000000                     2  \n",
       "\n",
       "[6 rows x 23 columns]"
      ]
     },
     "execution_count": 4,
     "metadata": {},
     "output_type": "execute_result"
    }
   ],
   "source": [
    "# Vice count percentage\n",
    "df_tmp = mfd_vers['mfd']\n",
    "df_tmp['vice percentage'] = df_tmp['vice_count']/df_tmp['mfd_match_len']\n",
    "# df_tmp[df_tmp['mfd_match_len']!=0][['vice percentage']].quantile(0.8)\n",
    "df_tmp[df_tmp['mfd_match_len']!=0].groupby('vice percentage').count()"
   ]
  },
  {
   "cell_type": "code",
   "execution_count": 5,
   "metadata": {},
   "outputs": [
    {
     "name": "stdout",
     "output_type": "stream",
     "text": [
      "               count_all  count_relevant  percentage\n",
      "mfd_match_len                                       \n",
      "0                    214              67    0.313084\n",
      "1                     85              43    0.505882\n",
      "2                     25               9    0.360000\n",
      "3                     12               7    0.583333\n",
      "4                      2               1    0.500000\n",
      "6                      1               1    1.000000\n",
      "care precision: 0.6\n",
      "fairness precision: 0.8\n",
      "authority precision: 0.5\n",
      "loyalty precision: 0.3\n",
      "sanctity precision: 0.1\n"
     ]
    },
    {
     "data": {
      "image/png": "[encoded data removed]",
      "text/plain": [
       "<Figure size 640x480 with 1 Axes>"
      ]
     },
     "metadata": {},
     "output_type": "display_data"
    }
   ],
   "source": [
    "mfd_ver = 'mfd'\n",
    "df_mfd = mfd_vers[mfd_ver]\n",
    "df_agg = df_mfd.groupby(f'{mfd_ver}_match_len').count()[['MF Relevance']]\n",
    "df_agg = df_agg.rename(columns={'MF Relevance': 'count_all'})\n",
    "df_agg['count_relevant'] = df_mfd.groupby(f'{mfd_ver}_match_len').sum()[['MF Relevance']]\n",
    "df_agg['percentage'] = df_agg['count_relevant'] / df_agg['count_all']\n",
    "print(df_agg)\n",
    "df_agg.plot(y='percentage', use_index=True)\n",
    "\n",
    "moral_foundations = ['care', 'fairness', 'authority', 'loyalty', 'sanctity']\n",
    "for mf in moral_foundations:\n",
    "    recall_t5 = df_mfd.sort_values(by=mf).tail(5)['MF Relevance'].sum()/5\n",
    "    recall_t10 = df_mfd.sort_values(by=mf).tail(10)['MF Relevance'].sum()/10\n",
    "    recall_t20 = df_mfd.sort_values(by=mf).tail(20)['MF Relevance'].sum()/20\n",
    "    final_result_dict_t5[mfd_ver][mf] = recall_t5\n",
    "    final_result_dict_t10[mfd_ver][mf] = recall_t10\n",
    "    final_result_dict_t20[mfd_ver][mf] = recall_t20\n",
    "    print(f'{mf} precision:', recall_t10)"
   ]
  },
  {
   "cell_type": "code",
   "execution_count": 18,
   "metadata": {},
   "outputs": [
    {
     "name": "stdout",
     "output_type": "stream",
     "text": [
      "                count_all  count_relevant  percentage\n",
      "mfd2_match_len                                       \n",
      "0                     190              51    0.268421\n",
      "1                      89              38    0.426966\n",
      "2                      43              26    0.604651\n",
      "3                      11               8    0.727273\n",
      "4                       3               2    0.666667\n",
      "5                       3               3    1.000000\n",
      "care precision: 0.7\n",
      "fairness precision: 0.6\n",
      "authority precision: 0.6\n",
      "loyalty precision: 0.7\n",
      "sanctity precision: 0.3\n"
     ]
    },
    {
     "data": {
      "image/png": "[encoded data removed]",
      "text/plain": [
       "<Figure size 640x480 with 1 Axes>"
      ]
     },
     "metadata": {},
     "output_type": "display_data"
    }
   ],
   "source": [
    "mfd_ver = 'mfd2'\n",
    "df_mfd = mfd_vers[mfd_ver]\n",
    "df_agg = df_mfd.groupby(f'{mfd_ver}_match_len').count()[['MF Relevance']]\n",
    "df_agg = df_agg.rename(columns={'MF Relevance': 'count_all'})\n",
    "df_agg['count_relevant'] = df_mfd.groupby(f'{mfd_ver}_match_len').sum()[['MF Relevance']]\n",
    "df_agg['percentage'] = df_agg['count_relevant'] / df_agg['count_all']\n",
    "print(df_agg)\n",
    "df_agg.plot(y='percentage', use_index=True)\n",
    "moral_foundations = ['care', 'fairness', 'authority', 'loyalty', 'sanctity']\n",
    "for mf in moral_foundations:\n",
    "    recall_t5 = df_mfd.sort_values(by=mf).tail(5)['MF Relevance'].sum()/5\n",
    "    recall_t10 = df_mfd.sort_values(by=mf).tail(10)['MF Relevance'].sum()/10\n",
    "    recall_t20 = df_mfd.sort_values(by=mf).tail(20)['MF Relevance'].sum()/20\n",
    "    final_result_dict_t5[mfd_ver][mf] = recall_t5\n",
    "    final_result_dict_t10[mfd_ver][mf] = recall_t10\n",
    "    final_result_dict_t20[mfd_ver][mf] = recall_t20\n",
    "    print(f'{mf} precision:', recall_t10)"
   ]
  },
  {
   "cell_type": "code",
   "execution_count": 17,
   "metadata": {},
   "outputs": [
    {
     "name": "stdout",
     "output_type": "stream",
     "text": [
      "care precision: 0.4\n",
      "fairness precision: 0.3\n",
      "authority precision: 0.3\n",
      "loyalty precision: 0.3\n",
      "sanctity precision: 0.4\n"
     ]
    },
    {
     "data": {
      "image/png": "[encoded data removed]",
      "text/plain": [
       "<Figure size 640x480 with 1 Axes>"
      ]
     },
     "metadata": {},
     "output_type": "display_data"
    }
   ],
   "source": [
    "mfd_ver = 'emfd'\n",
    "df_mfd = mfd_vers[mfd_ver]\n",
    "df_agg = df_mfd.groupby(f'{mfd_ver}_match_len').count()[['MF Relevance']]\n",
    "df_agg = df_agg.rename(columns={'MF Relevance': 'count_all'})\n",
    "df_agg['count_relevant'] = df_mfd.groupby(f'{mfd_ver}_match_len').sum()[['MF Relevance']]\n",
    "df_agg['percentage'] = df_agg['count_relevant'] / df_agg['count_all']\n",
    "# print(df_agg)\n",
    "df_agg.plot(y='percentage', use_index=True)\n",
    "moral_foundations = ['care', 'fairness', 'authority', 'loyalty', 'sanctity']\n",
    "for mf in moral_foundations:\n",
    "    recall_t5 = df_mfd.sort_values(by=mf).tail(5)['MF Relevance'].sum()/5\n",
    "    recall_t10 = df_mfd.sort_values(by=mf).tail(10)['MF Relevance'].sum()/10\n",
    "    recall_t20 = df_mfd.sort_values(by=mf).tail(20)['MF Relevance'].sum()/20\n",
    "    final_result_dict_t5[mfd_ver][mf] = recall_t5\n",
    "    final_result_dict_t10[mfd_ver][mf] = recall_t10\n",
    "    final_result_dict_t20[mfd_ver][mf] = recall_t20\n",
    "    print(f'{mf} precision:', recall_t10)"
   ]
  },
  {
   "cell_type": "code",
   "execution_count": 11,
   "metadata": {},
   "outputs": [
    {
     "name": "stdout",
     "output_type": "stream",
     "text": [
      "num_relevance 128\n",
      "total_num 339\n",
      "Percentage 0.3775811209439528\n"
     ]
    }
   ],
   "source": [
    "mfd_ver = 'mfd2'\n",
    "df_mfd = mfd_vers[mfd_ver]\n",
    "num_relevance = df_mfd['MF Relevance'].sum()\n",
    "total_num = len(df_mfd)\n",
    "\n",
    "print('num_relevance', num_relevance)\n",
    "print('total_num', total_num )\n",
    "print('Percentage', num_relevance/total_num)"
   ]
  },
  {
   "cell_type": "markdown",
   "metadata": {},
   "source": [
    "##### DDR"
   ]
  },
  {
   "cell_type": "code",
   "execution_count": 4,
   "metadata": {},
   "outputs": [],
   "source": [
    "file_path = './data/annotaion_sample.xlsx'\n",
    "article_number = 10\n",
    "\n",
    "sample = AnnotationSample(file_path, article_number)\n",
    "sample.compute_cosine()\n",
    "\n",
    "df_list = []\n",
    "for i in range(len(sample.excel_sheets)):\n",
    "    df = sample.excel_sheets[i]\n",
    "    df_list.append(df)\n",
    "\n",
    "df_ddr = pd.concat(df_list)"
   ]
  },
  {
   "cell_type": "code",
   "execution_count": 16,
   "metadata": {},
   "outputs": [
    {
     "name": "stdout",
     "output_type": "stream",
     "text": [
      "care precision: 0.6\n",
      "fairness precision: 0.8\n",
      "authority precision: 0.5\n",
      "loyalty precision: 0.9\n",
      "sanctity precision: 0.7\n"
     ]
    }
   ],
   "source": [
    "moral_foundations = ['care', 'fairness', 'authority', 'loyalty', 'sanctity']\n",
    "# for mf in moral_foundations:\n",
    "#     print(f'{mf} precision:', df_ddr.sort_values(by=mf).tail(10)['MF Relevance'].sum()/10)\n",
    "\n",
    "method = 'ddr'\n",
    "for mf in moral_foundations:\n",
    "    recall_t5 = df_ddr.sort_values(by=mf).tail(5)['MF Relevance'].sum()/5\n",
    "    recall_t10 = df_ddr.sort_values(by=mf).tail(10)['MF Relevance'].sum()/10\n",
    "    recall_t20 = df_ddr.sort_values(by=mf).tail(20)['MF Relevance'].sum()/20\n",
    "    final_result_dict_t5[method][mf] = recall_t5\n",
    "    final_result_dict_t10[method][mf] = recall_t10\n",
    "    final_result_dict_t20[method][mf] = recall_t20\n",
    "    print(f'{mf} precision:', recall_t10)"
   ]
  },
  {
   "cell_type": "markdown",
   "metadata": {},
   "source": [
    "##### Final comparison"
   ]
  },
  {
   "cell_type": "code",
   "execution_count": 20,
   "metadata": {},
   "outputs": [
    {
     "name": "stdout",
     "output_type": "stream",
     "text": [
      "Avg recall with top 5:\n",
      " mfd     0.44\n",
      "mfd2    0.76\n",
      "emfd    0.36\n",
      "ddr     0.72\n",
      "dtype: float64\n"
     ]
    },
    {
     "data": {
      "text/html": [
       "<div>\n",
       "<style scoped>\n",
       "    .dataframe tbody tr th:only-of-type {\n",
       "        vertical-align: middle;\n",
       "    }\n",
       "\n",
       "    .dataframe tbody tr th {\n",
       "        vertical-align: top;\n",
       "    }\n",
       "\n",
       "    .dataframe thead th {\n",
       "        text-align: right;\n",
       "    }\n",
       "</style>\n",
       "<table border=\"1\" class=\"dataframe\">\n",
       "  <thead>\n",
       "    <tr style=\"text-align: right;\">\n",
       "      <th></th>\n",
       "      <th>mfd</th>\n",
       "      <th>mfd2</th>\n",
       "      <th>emfd</th>\n",
       "      <th>ddr</th>\n",
       "    </tr>\n",
       "  </thead>\n",
       "  <tbody>\n",
       "    <tr>\n",
       "      <th>care</th>\n",
       "      <td>0.6</td>\n",
       "      <td>0.6</td>\n",
       "      <td>0.4</td>\n",
       "      <td>0.6</td>\n",
       "    </tr>\n",
       "    <tr>\n",
       "      <th>fairness</th>\n",
       "      <td>0.8</td>\n",
       "      <td>0.8</td>\n",
       "      <td>0.2</td>\n",
       "      <td>1.0</td>\n",
       "    </tr>\n",
       "    <tr>\n",
       "      <th>authority</th>\n",
       "      <td>0.6</td>\n",
       "      <td>0.8</td>\n",
       "      <td>0.2</td>\n",
       "      <td>0.4</td>\n",
       "    </tr>\n",
       "    <tr>\n",
       "      <th>loyalty</th>\n",
       "      <td>0.2</td>\n",
       "      <td>1.0</td>\n",
       "      <td>0.4</td>\n",
       "      <td>1.0</td>\n",
       "    </tr>\n",
       "    <tr>\n",
       "      <th>sanctity</th>\n",
       "      <td>0.0</td>\n",
       "      <td>0.6</td>\n",
       "      <td>0.6</td>\n",
       "      <td>0.6</td>\n",
       "    </tr>\n",
       "  </tbody>\n",
       "</table>\n",
       "</div>"
      ],
      "text/plain": [
       "           mfd  mfd2  emfd  ddr\n",
       "care       0.6   0.6   0.4  0.6\n",
       "fairness   0.8   0.8   0.2  1.0\n",
       "authority  0.6   0.8   0.2  0.4\n",
       "loyalty    0.2   1.0   0.4  1.0\n",
       "sanctity   0.0   0.6   0.6  0.6"
      ]
     },
     "execution_count": 20,
     "metadata": {},
     "output_type": "execute_result"
    }
   ],
   "source": [
    "print('Avg recall with top 5:\\n', pd.DataFrame(final_result_dict_t5).mean())\n",
    "pd.DataFrame(final_result_dict_t5)"
   ]
  },
  {
   "cell_type": "code",
   "execution_count": 21,
   "metadata": {},
   "outputs": [
    {
     "name": "stdout",
     "output_type": "stream",
     "text": [
      "Avg recall with top 10:\n",
      " mfd     0.46\n",
      "mfd2    0.58\n",
      "emfd    0.34\n",
      "ddr     0.70\n",
      "dtype: float64\n"
     ]
    },
    {
     "data": {
      "text/html": [
       "<div>\n",
       "<style scoped>\n",
       "    .dataframe tbody tr th:only-of-type {\n",
       "        vertical-align: middle;\n",
       "    }\n",
       "\n",
       "    .dataframe tbody tr th {\n",
       "        vertical-align: top;\n",
       "    }\n",
       "\n",
       "    .dataframe thead th {\n",
       "        text-align: right;\n",
       "    }\n",
       "</style>\n",
       "<table border=\"1\" class=\"dataframe\">\n",
       "  <thead>\n",
       "    <tr style=\"text-align: right;\">\n",
       "      <th></th>\n",
       "      <th>mfd</th>\n",
       "      <th>mfd2</th>\n",
       "      <th>emfd</th>\n",
       "      <th>ddr</th>\n",
       "    </tr>\n",
       "  </thead>\n",
       "  <tbody>\n",
       "    <tr>\n",
       "      <th>care</th>\n",
       "      <td>0.6</td>\n",
       "      <td>0.7</td>\n",
       "      <td>0.4</td>\n",
       "      <td>0.6</td>\n",
       "    </tr>\n",
       "    <tr>\n",
       "      <th>fairness</th>\n",
       "      <td>0.8</td>\n",
       "      <td>0.6</td>\n",
       "      <td>0.3</td>\n",
       "      <td>0.8</td>\n",
       "    </tr>\n",
       "    <tr>\n",
       "      <th>authority</th>\n",
       "      <td>0.5</td>\n",
       "      <td>0.6</td>\n",
       "      <td>0.3</td>\n",
       "      <td>0.5</td>\n",
       "    </tr>\n",
       "    <tr>\n",
       "      <th>loyalty</th>\n",
       "      <td>0.3</td>\n",
       "      <td>0.7</td>\n",
       "      <td>0.3</td>\n",
       "      <td>0.9</td>\n",
       "    </tr>\n",
       "    <tr>\n",
       "      <th>sanctity</th>\n",
       "      <td>0.1</td>\n",
       "      <td>0.3</td>\n",
       "      <td>0.4</td>\n",
       "      <td>0.7</td>\n",
       "    </tr>\n",
       "  </tbody>\n",
       "</table>\n",
       "</div>"
      ],
      "text/plain": [
       "           mfd  mfd2  emfd  ddr\n",
       "care       0.6   0.7   0.4  0.6\n",
       "fairness   0.8   0.6   0.3  0.8\n",
       "authority  0.5   0.6   0.3  0.5\n",
       "loyalty    0.3   0.7   0.3  0.9\n",
       "sanctity   0.1   0.3   0.4  0.7"
      ]
     },
     "execution_count": 21,
     "metadata": {},
     "output_type": "execute_result"
    }
   ],
   "source": [
    "print('Avg recall with top 10:\\n', pd.DataFrame(final_result_dict_t10).mean())\n",
    "pd.DataFrame(final_result_dict_t10)"
   ]
  },
  {
   "cell_type": "code",
   "execution_count": 22,
   "metadata": {},
   "outputs": [
    {
     "name": "stdout",
     "output_type": "stream",
     "text": [
      "Avg recall with top 20:\n",
      " mfd     0.43\n",
      "mfd2    0.58\n",
      "emfd    0.43\n",
      "ddr     0.66\n",
      "dtype: float64\n"
     ]
    },
    {
     "data": {
      "text/html": [
       "<div>\n",
       "<style scoped>\n",
       "    .dataframe tbody tr th:only-of-type {\n",
       "        vertical-align: middle;\n",
       "    }\n",
       "\n",
       "    .dataframe tbody tr th {\n",
       "        vertical-align: top;\n",
       "    }\n",
       "\n",
       "    .dataframe thead th {\n",
       "        text-align: right;\n",
       "    }\n",
       "</style>\n",
       "<table border=\"1\" class=\"dataframe\">\n",
       "  <thead>\n",
       "    <tr style=\"text-align: right;\">\n",
       "      <th></th>\n",
       "      <th>mfd</th>\n",
       "      <th>mfd2</th>\n",
       "      <th>emfd</th>\n",
       "      <th>ddr</th>\n",
       "    </tr>\n",
       "  </thead>\n",
       "  <tbody>\n",
       "    <tr>\n",
       "      <th>care</th>\n",
       "      <td>0.70</td>\n",
       "      <td>0.7</td>\n",
       "      <td>0.55</td>\n",
       "      <td>0.55</td>\n",
       "    </tr>\n",
       "    <tr>\n",
       "      <th>fairness</th>\n",
       "      <td>0.50</td>\n",
       "      <td>0.5</td>\n",
       "      <td>0.40</td>\n",
       "      <td>0.70</td>\n",
       "    </tr>\n",
       "    <tr>\n",
       "      <th>authority</th>\n",
       "      <td>0.55</td>\n",
       "      <td>0.7</td>\n",
       "      <td>0.35</td>\n",
       "      <td>0.50</td>\n",
       "    </tr>\n",
       "    <tr>\n",
       "      <th>loyalty</th>\n",
       "      <td>0.30</td>\n",
       "      <td>0.7</td>\n",
       "      <td>0.40</td>\n",
       "      <td>0.80</td>\n",
       "    </tr>\n",
       "    <tr>\n",
       "      <th>sanctity</th>\n",
       "      <td>0.10</td>\n",
       "      <td>0.3</td>\n",
       "      <td>0.45</td>\n",
       "      <td>0.75</td>\n",
       "    </tr>\n",
       "  </tbody>\n",
       "</table>\n",
       "</div>"
      ],
      "text/plain": [
       "            mfd  mfd2  emfd   ddr\n",
       "care       0.70   0.7  0.55  0.55\n",
       "fairness   0.50   0.5  0.40  0.70\n",
       "authority  0.55   0.7  0.35  0.50\n",
       "loyalty    0.30   0.7  0.40  0.80\n",
       "sanctity   0.10   0.3  0.45  0.75"
      ]
     },
     "execution_count": 22,
     "metadata": {},
     "output_type": "execute_result"
    }
   ],
   "source": [
    "print('Avg recall with top 20:\\n', pd.DataFrame(final_result_dict_t20).mean())\n",
    "pd.DataFrame(final_result_dict_t20)"
   ]
  },
  {
   "cell_type": "markdown",
   "metadata": {},
   "source": [
    "### Article level"
   ]
  },
  {
   "cell_type": "code",
   "execution_count": 3,
   "metadata": {},
   "outputs": [],
   "source": [
    "file_path = './data/annotaion_sample.xlsx'\n",
    "article_number = 10\n",
    "\n",
    "mfd_vers = {\n",
    "    'mfd': {'count_mf_relevance': [], 'count_mf_match': [], 'unit_num': []}, \n",
    "    'mfd2': {'count_mf_relevance': [], 'count_mf_match': [], 'unit_num': []}, \n",
    "    'emfd': {'count_mf_relevance': [], 'count_mf_match': [], 'unit_num': []}\n",
    "}\n",
    "\n",
    "for mfd_ver, info_dict in mfd_vers.items():\n",
    "    sample = AnnotationSample(file_path, article_number)\n",
    "    sample.compute_mfd_count(mfd_ver)\n",
    "\n",
    "    for i in range(len(sample.excel_sheets)):\n",
    "        df = sample.excel_sheets[i]\n",
    "\n",
    "        mfd_vers[mfd_ver]['count_mf_relevance'].append(df['MF Relevance'].sum())\n",
    "        mfd_vers[mfd_ver]['count_mf_match'].append(df[f'{mfd_ver}_count'].sum())\n",
    "        mfd_vers[mfd_ver]['unit_num'].append(len(df))\n",
    "\n",
    "    mfd_vers[mfd_ver] = pd.DataFrame(mfd_vers[mfd_ver])"
   ]
  },
  {
   "cell_type": "code",
   "execution_count": 4,
   "metadata": {},
   "outputs": [
    {
     "data": {
      "text/html": [
       "<div>\n",
       "<style scoped>\n",
       "    .dataframe tbody tr th:only-of-type {\n",
       "        vertical-align: middle;\n",
       "    }\n",
       "\n",
       "    .dataframe tbody tr th {\n",
       "        vertical-align: top;\n",
       "    }\n",
       "\n",
       "    .dataframe thead th {\n",
       "        text-align: right;\n",
       "    }\n",
       "</style>\n",
       "<table border=\"1\" class=\"dataframe\">\n",
       "  <thead>\n",
       "    <tr style=\"text-align: right;\">\n",
       "      <th></th>\n",
       "      <th>count_mf_relevance</th>\n",
       "      <th>count_mf_match</th>\n",
       "      <th>unit_num</th>\n",
       "    </tr>\n",
       "  </thead>\n",
       "  <tbody>\n",
       "    <tr>\n",
       "      <th>0</th>\n",
       "      <td>33</td>\n",
       "      <td>613</td>\n",
       "      <td>89</td>\n",
       "    </tr>\n",
       "    <tr>\n",
       "      <th>1</th>\n",
       "      <td>10</td>\n",
       "      <td>121</td>\n",
       "      <td>16</td>\n",
       "    </tr>\n",
       "    <tr>\n",
       "      <th>2</th>\n",
       "      <td>2</td>\n",
       "      <td>235</td>\n",
       "      <td>13</td>\n",
       "    </tr>\n",
       "    <tr>\n",
       "      <th>3</th>\n",
       "      <td>20</td>\n",
       "      <td>446</td>\n",
       "      <td>82</td>\n",
       "    </tr>\n",
       "    <tr>\n",
       "      <th>4</th>\n",
       "      <td>9</td>\n",
       "      <td>112</td>\n",
       "      <td>23</td>\n",
       "    </tr>\n",
       "    <tr>\n",
       "      <th>5</th>\n",
       "      <td>10</td>\n",
       "      <td>141</td>\n",
       "      <td>17</td>\n",
       "    </tr>\n",
       "    <tr>\n",
       "      <th>6</th>\n",
       "      <td>13</td>\n",
       "      <td>323</td>\n",
       "      <td>29</td>\n",
       "    </tr>\n",
       "    <tr>\n",
       "      <th>7</th>\n",
       "      <td>2</td>\n",
       "      <td>38</td>\n",
       "      <td>7</td>\n",
       "    </tr>\n",
       "    <tr>\n",
       "      <th>8</th>\n",
       "      <td>22</td>\n",
       "      <td>222</td>\n",
       "      <td>33</td>\n",
       "    </tr>\n",
       "    <tr>\n",
       "      <th>9</th>\n",
       "      <td>7</td>\n",
       "      <td>113</td>\n",
       "      <td>30</td>\n",
       "    </tr>\n",
       "  </tbody>\n",
       "</table>\n",
       "</div>"
      ],
      "text/plain": [
       "   count_mf_relevance  count_mf_match  unit_num\n",
       "0                  33             613        89\n",
       "1                  10             121        16\n",
       "2                   2             235        13\n",
       "3                  20             446        82\n",
       "4                   9             112        23\n",
       "5                  10             141        17\n",
       "6                  13             323        29\n",
       "7                   2              38         7\n",
       "8                  22             222        33\n",
       "9                   7             113        30"
      ]
     },
     "execution_count": 4,
     "metadata": {},
     "output_type": "execute_result"
    }
   ],
   "source": [
    "mfd_vers['emfd'] "
   ]
  },
  {
   "cell_type": "code",
   "execution_count": 5,
   "metadata": {},
   "outputs": [
    {
     "data": {
      "image/png": "[encoded data removed]",
      "text/plain": [
       "<Figure size 640x480 with 1 Axes>"
      ]
     },
     "metadata": {},
     "output_type": "display_data"
    },
    {
     "data": {
      "image/png": "[encoded data removed]",
      "text/plain": [
       "<Figure size 640x480 with 1 Axes>"
      ]
     },
     "metadata": {},
     "output_type": "display_data"
    },
    {
     "data": {
      "image/png": "[encoded data removed]",
      "text/plain": [
       "<Figure size 640x480 with 1 Axes>"
      ]
     },
     "metadata": {},
     "output_type": "display_data"
    }
   ],
   "source": [
    "for mfd_ver, df in mfd_vers.items():\n",
    "    mfd_vers[mfd_ver]['count_match_norm'] = df['count_mf_match'] / df['unit_num']\n",
    "    mfd_vers[mfd_ver].plot.scatter(y='count_mf_relevance', x='count_match_norm', title=mfd_ver)\n",
    "\n",
    "# `count_mf_relevance` is the total number of mf relevant label in an article.\n",
    "# `count_match_norm` is the total number of words in an article matching with mfd, \n",
    "#  normalised by the number of unit."
   ]
  },
  {
   "cell_type": "code",
   "execution_count": null,
   "metadata": {},
   "outputs": [],
   "source": []
  }
 ],
 "metadata": {
  "kernelspec": {
   "display_name": "comp90055",
   "language": "python",
   "name": "python3"
  },
  "language_info": {
   "codemirror_mode": {
    "name": "ipython",
    "version": 3
   },
   "file_extension": ".py",
   "mimetype": "text/x-python",
   "name": "python",
   "nbconvert_exporter": "python",
   "pygments_lexer": "ipython3",
   "version": "3.10.13"
  }
 },
 "nbformat": 4,
 "nbformat_minor": 2
}
