{
 "cells": [
  {
   "cell_type": "code",
   "execution_count": 2,
   "metadata": {},
   "outputs": [
    {
     "name": "stdout",
     "output_type": "stream",
     "text": [
      "Intel MKL WARNING: Support of Intel(R) Streaming SIMD Extensions 4.2 (Intel(R) SSE4.2) enabled only processors has been deprecated. Intel oneAPI Math Kernel Library 2025.0 will require Intel(R) Advanced Vector Extensions (Intel(R) AVX) instructions.\n",
      "Intel MKL WARNING: Support of Intel(R) Streaming SIMD Extensions 4.2 (Intel(R) SSE4.2) enabled only processors has been deprecated. Intel oneAPI Math Kernel Library 2025.0 will require Intel(R) Advanced Vector Extensions (Intel(R) AVX) instructions.\n"
     ]
    }
   ],
   "source": [
    "import re\n",
    "from collections import defaultdict\n",
    "import spacy\n",
    "import numpy as np\n",
    "import matplotlib.pyplot as plt\n",
    "from emfdscore.load_mfds import mfd2, emfd_single_vice_virtue, mfd_regex, mfd\n",
    "import pandas as pd\n",
    "import jsonpickle"
   ]
  },
  {
   "cell_type": "markdown",
   "metadata": {},
   "source": [
    "### Transcript from Kat"
   ]
  },
  {
   "cell_type": "code",
   "execution_count": 3,
   "metadata": {},
   "outputs": [],
   "source": [
    "nlp = spacy.load('en_core_web_sm')"
   ]
  },
  {
   "cell_type": "code",
   "execution_count": 4,
   "metadata": {},
   "outputs": [
    {
     "data": {
      "text/plain": [
       "defaultdict(int,\n",
       "            {'MICHAEL LONG, FORMER AFL PLAYER': 1,\n",
       "             'When we finally met with him in Canberra, we asked': 1,\n",
       "             'NYUNGGAI WARREN MUNDINE, NO CAMPAIGNER': 1,\n",
       "             'ANTHONY ALBANESE, PRIME MINISTER': 1,\n",
       "             'REPORTER': 1,\n",
       "             'JACINTA NAMPIJINPA PRICE, SHADOW MINISTRE FOR INDIGENOUS AUSTRALIA': 1,\n",
       "             'KERRYNNE LIDDLE, SHADOW MINISTER FOR CHILD PROTECTION': 1,\n",
       "             'ANTHONY ALBANESE': 1,\n",
       "             'DAVID SPEERS, PRESENTER': 1,\n",
       "             'KERRYNNE LIDDLE SHADOW MINISTER FOR CHILD PROTECTION': 1,\n",
       "             'DAVID SPEERS': 27,\n",
       "             'KERRYNNE LIDDLE': 27})"
      ]
     },
     "execution_count": 4,
     "metadata": {},
     "output_type": "execute_result"
    }
   ],
   "source": [
    "# Identify names.\n",
    "with open('data/Kat_0411/Voice Ref.txt') as f:\n",
    "    text = f.read()\n",
    "\n",
    "pattern = re.compile(r'\\n(.*):')\n",
    "matches = pattern.finditer(text)\n",
    "\n",
    "name_count = defaultdict(int)\n",
    "for match in matches:\n",
    "    name = match.group(1)\n",
    "    name_count[name] += 1\n",
    "\n",
    "name_count"
   ]
  },
  {
   "cell_type": "code",
   "execution_count": 5,
   "metadata": {},
   "outputs": [
    {
     "name": "stdout",
     "output_type": "stream",
     "text": [
      ", PRESENTER: Liberal Senator Kerryanne Liddle is the shadow minister for child protection & the prevention of family violence. The Indigenous Senator is advocating a no vote in this referendum. I spoke to her earlier.\n",
      "['child', 'protection', 'family', 'violence']\n",
      "['care.virtue', 'authority.virtue', 'loyalty.virtue', 'care.vice']\n",
      "\n",
      ": You talk about your own family. You've spoken about this previously. Your own mother was a member of the Stolen Generations & you yourself have said those things have a huge effect. There is an intergenerational effect.\n",
      "['family', 'mother', 'stolen']\n",
      "['loyalty.virtue', 'care.virtue', 'fairness.vice']\n",
      "\n",
      ": This is no small issue though with respect. Whether there's intergenerational...\n",
      "['respect']\n",
      "['authority.virtue']\n",
      "\n",
      ": All of that's fair enough but do we need Indigenous Voice bodies or not?\n",
      "['fair']\n",
      "['fairness.virtue']\n",
      "\n",
      ": Through the Indigenous Voice, I'm just trying to get to whether you think we need, because the Liberal Party position which is very clear is that you want to put in law Indigenous Voice bodies?\n",
      "['law']\n",
      "['fairness.virtue']\n",
      "\n",
      ": So Voice bodies would help fix it?\n",
      "['help']\n",
      "['care.virtue']\n",
      "\n",
      ": Do you support the principle of Voice bodies in law?\n",
      "['law']\n",
      "['fairness.virtue']\n",
      "\n",
      ": But with respect, the Opposition is holding out this alternative, this symbolic recognition as you've just indicated. What are you talking about?\n",
      "['respect']\n",
      "['authority.virtue']\n",
      "\n",
      ": Just a final question then, if, as you're advocating, Australians vote no on the 14th of October, what happens the next day? Would there be celebration for some? Do you expect some would feel wounded, how do we come together?\n",
      "['wounded', 'together']\n",
      "['care.vice', 'loyalty.virtue']\n",
      "\n",
      ": Senator, thanks so much for joining us.\n",
      "['joining']\n",
      "['loyalty.virtue']\n",
      "\n"
     ]
    },
    {
     "data": {
      "image/png": "[encoded data removed]",
      "text/plain": [
       "<Figure size 640x480 with 1 Axes>"
      ]
     },
     "metadata": {},
     "output_type": "display_data"
    }
   ],
   "source": [
    "pattern_david = re.compile(r'\\nDAVID\\sSPEERS(.*)\\n')\n",
    "\n",
    "sent_david = [match.group(1) for match in pattern_david.finditer(text)]\n",
    "len_list = [len(sent.split()) for sent in sent_david]\n",
    "mean_len_david = np.mean(len_list)\n",
    "\n",
    "plt.boxplot(len_list)\n",
    "percentile_25 = np.quantile(len_list, 0.25)\n",
    "\n",
    "foundation_counter_list = list()\n",
    "for sent in sent_david:\n",
    "    foundation_counter = defaultdict(int)\n",
    "    mf_words = []\n",
    "    if len(sent.split()) >= percentile_25:\n",
    "        doc = nlp(sent)\n",
    "        for token in doc:\n",
    "            token = token.text.lower()\n",
    "            if token in mfd2:\n",
    "                foundation = mfd2[token]['foundation']\n",
    "                mf_words.append(token)\n",
    "                foundation_counter[foundation] += 1\n",
    "    if len(mf_words)!= 0:\n",
    "        print(sent)\n",
    "        print(mf_words)\n",
    "        print(list(foundation_counter.keys()))\n",
    "        print()\n",
    "    foundation_counter_list.append(foundation_counter)\n",
    "\n",
    "# foundation_counter_list\n",
    "# print(pd.DataFrame(foundation_counter_list))"
   ]
  },
  {
   "cell_type": "code",
   "execution_count": 6,
   "metadata": {},
   "outputs": [
    {
     "name": "stdout",
     "output_type": "stream",
     "text": [
      ", SHADOW MINISTER FOR CHILD PROTECTION: I think we have to be careful when we talk about the No campaign. I am no to this form of constitutional recognition, or it being in the Constitution. That doesn't necessarily make us all the No campaign, all the same.\n",
      "['child', 'protection']\n",
      "['care.virtue', 'authority.virtue']\n",
      "\n",
      " SHADOW MINISTER FOR CHILD PROTECTION: Well, I think there are a whole range of reasons why Aboriginal & Torres Strait Islander people, some people, find themselves disadvantaged & it goes to the core of this issue, the suggestion, the stereotype that we are all the same or that we have all had the same experiences growing up & that we are all at the same place in our lives.\n",
      "['child', 'protection', 'disadvantaged']\n",
      "['care.virtue', 'authority.virtue', 'fairness.vice']\n",
      "\n",
      ": Yeah, there is. There is an intergenerational effect in that when my mother, she's passed away now, but when she used to talk about this, she would say I have to think about things differently, I have do things differently. When I'm working through challenges, I have to recognise that I have to approach them differently.\n",
      "['mother']\n",
      "['care.virtue']\n",
      "\n",
      ": Well, you need to actually, you need to talk to people. When I go to communities, I don't fly in with a charter flight. I take a car in; I take a swag in in case somebody to have a longer conversation. I can stay with them, stay overnight, have a conversation. I actually go into their homes because I'm invited into their homes. That’s what it is going to take.\n",
      "['communities']\n",
      "['loyalty.virtue']\n",
      "\n",
      ": Well, we've got the Calma Langton report. That was done under Coalition government. That explored a range of different models to look at that would...\n",
      "['coalition']\n",
      "['loyalty.virtue']\n",
      "\n",
      ": Well, I explained before, that is about identifying spiritual association, cultural association, our contribution, our history. You can capture that in some words, but you take those, you come up with the words, you take those to the people.\n",
      "['spiritual']\n",
      "['sanctity.virtue']\n",
      "\n"
     ]
    },
    {
     "data": {
      "text/plain": [
       "[defaultdict(int, {'care.virtue': 1, 'authority.virtue': 1}),\n",
       " defaultdict(int,\n",
       "             {'care.virtue': 1, 'authority.virtue': 1, 'fairness.vice': 1}),\n",
       " defaultdict(int, {'care.virtue': 1}),\n",
       " defaultdict(int, {}),\n",
       " defaultdict(int, {}),\n",
       " defaultdict(int, {}),\n",
       " defaultdict(int, {}),\n",
       " defaultdict(int, {}),\n",
       " defaultdict(int, {}),\n",
       " defaultdict(int, {}),\n",
       " defaultdict(int, {'loyalty.virtue': 1}),\n",
       " defaultdict(int, {}),\n",
       " defaultdict(int, {}),\n",
       " defaultdict(int, {}),\n",
       " defaultdict(int, {}),\n",
       " defaultdict(int, {}),\n",
       " defaultdict(int, {'loyalty.virtue': 1}),\n",
       " defaultdict(int, {}),\n",
       " defaultdict(int, {}),\n",
       " defaultdict(int, {}),\n",
       " defaultdict(int, {}),\n",
       " defaultdict(int, {}),\n",
       " defaultdict(int, {}),\n",
       " defaultdict(int, {}),\n",
       " defaultdict(int, {}),\n",
       " defaultdict(int, {'sanctity.virtue': 1}),\n",
       " defaultdict(int, {}),\n",
       " defaultdict(int, {}),\n",
       " defaultdict(int, {})]"
      ]
     },
     "execution_count": 6,
     "metadata": {},
     "output_type": "execute_result"
    },
    {
     "data": {
      "image/png": "[encoded data removed]",
      "text/plain": [
       "<Figure size 640x480 with 1 Axes>"
      ]
     },
     "metadata": {},
     "output_type": "display_data"
    }
   ],
   "source": [
    "pattern_KERRYNNE = re.compile(r'\\nKERRYNNE\\sLIDDLE(.*)\\n')\n",
    "\n",
    "sent_kerrynne = [match.group(1) for match in pattern_KERRYNNE.finditer(text)]\n",
    "len_list = [len(sent.split()) for sent in sent_kerrynne]\n",
    "\n",
    "plt.boxplot(len_list)\n",
    "percentile_25 = np.quantile(len_list, 0.25)\n",
    "\n",
    "foundation_counter_list = list()\n",
    "for sent in sent_kerrynne:\n",
    "    foundation_counter = defaultdict(int)\n",
    "    mf_words = []\n",
    "    if len(sent.split()) >= percentile_25:\n",
    "        doc = nlp(sent)\n",
    "        for token in doc:\n",
    "            token = token.text.lower()\n",
    "            if token in mfd2:\n",
    "                foundation = mfd2[token]['foundation']\n",
    "                mf_words.append(token)\n",
    "                foundation_counter[foundation] += 1\n",
    "    if len(mf_words)!= 0:\n",
    "        print(sent)\n",
    "        print(mf_words)\n",
    "        print(list(foundation_counter.keys()))\n",
    "        print()\n",
    "    foundation_counter_list.append(foundation_counter)\n",
    "\n",
    "foundation_counter_list"
   ]
  },
  {
   "cell_type": "markdown",
   "metadata": {},
   "source": [
    "### Transcript Search"
   ]
  },
  {
   "cell_type": "code",
   "execution_count": 12,
   "metadata": {},
   "outputs": [
    {
     "name": "stdout",
     "output_type": "stream",
     "text": [
      "Indigenous senators speak out as battlelines drawn ahead of the Voice referendum:   The two sides of politics squared off in Parliament over the Indigenous Voice for the final time today before next month's referendum.\n"
     ]
    }
   ],
   "source": [
    "with open('./data/all_dict.pickle') as f:\n",
    "# with open('./data/pickle_240227/voice.pickle') as f:\n",
    "    voice_dict = jsonpickle.decode(f.read())\n",
    "key_list = [key for key in voice_dict]\n",
    "for key, values in voice_dict.items():\n",
    "    article_info = values\n",
    "    title = article_info['title']\n",
    "    if 'Indigenous senators speak out as battlelines' in title:\n",
    "        print(title)"
   ]
  },
  {
   "cell_type": "markdown",
   "metadata": {},
   "source": [
    "### Transcript parsing"
   ]
  },
  {
   "cell_type": "code",
   "execution_count": 1,
   "metadata": {},
   "outputs": [],
   "source": [
    "\"\"\"TODO\n",
    "- Load all_dict.pickle\n",
    "- Catch all matches with r'\\n(.*):' pattern from raw text.\n",
    "- Inspect match.group(1) which is the person who gives the statement.\n",
    "\"\"\""
   ]
  },
  {
   "cell_type": "code",
   "execution_count": 50,
   "metadata": {},
   "outputs": [
    {
     "name": "stdout",
     "output_type": "stream",
     "text": [
      "Article number:  2360\n",
      "Number of transcript:  34\n",
      "The number of names identified:  181\n"
     ]
    }
   ],
   "source": [
    "with open('./data/all_dict.pickle') as f:\n",
    "    all_dict = jsonpickle.decode(f.read())\n",
    "key_list = [key for key in all_dict.keys()]\n",
    "print(\"Article number: \", len(key_list))\n",
    "\n",
    "keys_transcript = []\n",
    "name_list = []\n",
    "title_list = []\n",
    "pattern = re.compile(r'\\n([A-Z,\\s^.:]*):\\s([A-Z].*)')\n",
    "# pattern = re.compile(r'\\n([^.:]*):\\s([A-Z].*)')\n",
    "for key in key_list:\n",
    "    text = all_dict[key]['text']\n",
    "    title = all_dict[key]['title']\n",
    "    matches = [match for match in pattern.finditer(text)]\n",
    "    if len(matches) >= 5:\n",
    "        keys_transcript.append(key)\n",
    "        # if 'Indigenous senators speak out as battlelines' in title:\n",
    "        #     print(text)\n",
    "        #     for match in matches:\n",
    "        #         print(match.group(0))\n",
    "        for match in matches:\n",
    "            statement = match.group(0)\n",
    "            name = statement.split(\":\")[0]\n",
    "            name_list.append(name)\n",
    "\n",
    "print(\"Number of transcript: \", len(keys_transcript))\n",
    "print(\"The number of names identified: \", len(set(name_list)))"
   ]
  },
  {
   "cell_type": "code",
   "execution_count": 47,
   "metadata": {},
   "outputs": [
    {
     "data": {
      "text/plain": [
       "[('\\nSARAH FERGUSON', 101),\n",
       " ('\\nJASON OM', 46),\n",
       " ('\\nNOEL PEARSON', 41),\n",
       " ('\\nLAURA TINGLE', 37),\n",
       " ('\\nDAVID SPEERS', 33),\n",
       " ('\\nPETER MCCUTCHEON', 29),\n",
       " ('\\nKERRYNNE LIDDLE', 27),\n",
       " ('\\nTONY ABBOTT', 26),\n",
       " ('\\nCARLY WILLIAMS', 21),\n",
       " ('\\nBRIDGET BRENNAN', 20),\n",
       " ('\\nRHIANNON SHINE', 19),\n",
       " ('\\nA', 14),\n",
       " ('\\nANTHONY ALBANESE', 12),\n",
       " ('\\nADAM HARVEY', 12),\n",
       " ('\\nEMILY BAKER', 10),\n",
       " ('\\nBEA BALLANGARRY', 10),\n",
       " ('\\nLINDA BURNEY', 10),\n",
       " ('\\nPATRICK BEGLEY', 10),\n",
       " ('\\nVOX POP', 8),\n",
       " ('\\nPAT MCGRATH', 8),\n",
       " ('\\nMARTIN BALLANGARRY', 8),\n",
       " ('\\nDEAN PARKIN', 8),\n",
       " ('\\nPAT ANDERSON', 8),\n",
       " ('\\nMICK GOODA', 6),\n",
       " ('\\nREPORTER', 6),\n",
       " ('\\nJACINTA NAMPIJINPA PRICE', 5),\n",
       " ('\\nTHOMAS MAYO', 5),\n",
       " ('\\nLAURA TINGLE, CHIEF POLITICAL CORRESPONDENT', 5),\n",
       " ('\\nNADIA DALY', 5),\n",
       " ('\\nANTHONY ALBANESE, PRIME MINISTER', 4),\n",
       " ('\\nPETER DUTTON, OPPOSITION LEADER', 4),\n",
       " ('\\nEVELYN LECKIE', 4),\n",
       " ('\\nNICOLA CHARLES', 4),\n",
       " ('\\nKEN WYATT', 4),\n",
       " ('\\nLINDA BURNEY, MINISTER FOR INDIGENOUS AUSTRALIANS', 4),\n",
       " ('\\nDAVID CRISAFULLI', 4),\n",
       " ('\\nMICHAEL MANSELL', 4),\n",
       " ('\\nDONNA INGRAM', 4),\n",
       " ('\\nSTEPHANIE ZILLMAN', 4),\n",
       " ('\\nRUEBEN BERG', 4),\n",
       " ('\\nJILL GALLAGHER', 3),\n",
       " ('\\nTIK TOK VIDEO', 3),\n",
       " ('\\nSHANEANE WELDON', 3),\n",
       " ('\\nMEGAN KRAKOUER', 3),\n",
       " ('\\nISABELLA TOLHURST', 3),\n",
       " ('\\nBOB KATTER', 3),\n",
       " ('\\nKEMUEL TAMWOY', 3),\n",
       " ('\\nMYRON JOHNY', 3),\n",
       " ('\\nBRIDGET CAMA', 3),\n",
       " ('\\nANDREA CARSON', 3),\n",
       " ('\\nKITANA MANSWELL', 3),\n",
       " ('\\nPRADEEP PATHI', 3),\n",
       " ('\\nWILL MURRAY', 3),\n",
       " ('\\nPETER DUTTON', 3),\n",
       " ('\\nNYUNGGAI WARREN MUNDINE, NO CAMPAIGNER', 3),\n",
       " ('\\nIAN LEAVERS', 3),\n",
       " ('\\nNYUNGGAI WARREN MUNDINE', 3),\n",
       " ('\\nPAUL WILLIAMS', 3),\n",
       " ('\\nDM', 3),\n",
       " ('\\nCD', 3),\n",
       " ('\\nAF', 3),\n",
       " ('\\nKATE CHANEY', 2),\n",
       " ('\\nGRAEME CAMPBELL', 2),\n",
       " ('\\nSTANLEY', 2),\n",
       " ('\\nBETTY MABO', 2),\n",
       " ('\\nPRADEEP PATHI, NO CAMPAIGNER', 2),\n",
       " ('\\nJESS DIAZ', 2),\n",
       " ('\\nDAI LE', 2),\n",
       " ('\\nAMAR SINGH', 2),\n",
       " ('\\nTREVOR BALLANGARRY', 2),\n",
       " ('\\nCROWD MEMBER', 2),\n",
       " ('\\nJIMMY CUTMORE', 2),\n",
       " ('\\nLIDIA THORPE, INDEPENDENT SENATOR', 2),\n",
       " ('\\nWARREN MUNDINE', 2),\n",
       " ('\\nSUSHI DAS', 2),\n",
       " ('\\nFIONA FOLEY', 2),\n",
       " ('\\nCHELSEA WATEGO', 2),\n",
       " ('\\nANNE TWOMEY', 2),\n",
       " ('\\nNGARRA MURRAY', 2),\n",
       " ('\\nANNETTE XIBERRAS', 2),\n",
       " ('\\nDB', 2),\n",
       " ('\\nBRIDGET BRENNAN, REPORTER', 1),\n",
       " ('\\nAUNTY JILL GALLAGHER, CEO VACCHO', 1),\n",
       " ('\\nADVERTISEMENT FOR YES CAMPAIGN', 1),\n",
       " ('\\nMICK GOODA, FMR SOCIAL JUSTICE COMMISSIONER', 1),\n",
       " ('\\nPAT TURNER, COALITION OF PEAKS', 1),\n",
       " ('\\nPAT TURNER', 1),\n",
       " ('\\nFRED CHANEY', 1),\n",
       " ('\\nBREANNA', 1),\n",
       " ('\\nCHILDREN', 1),\n",
       " ('\\nCHILD', 1),\n",
       " ('\\nABIGAIL HARRY', 1),\n",
       " ('\\nMILTON SAVAGE', 1),\n",
       " ('\\nPAT MCGRATH, REPORTER', 1),\n",
       " ('\\nASSOC. PROF. JOSH ROOSE, DEAKIN UNIVERSITY', 1),\n",
       " ('\\nESTHER CHAN, RMIT ABC FACT CHECK', 1),\n",
       " ('\\nBOB KATTER, MEMBER FOR KENNEDY', 1),\n",
       " ('\\nKERI TAMWOY, AURUKUN MAYOR', 1),\n",
       " ('\\nKERI TAMWOY', 1),\n",
       " ('\\nKEMUEL TAMWOY, ACTING AURUKUN MAYOR', 1),\n",
       " ('\\nDEREK WALPO, FORMER AURUKUN MAYOR', 1),\n",
       " ('\\nRON KINGI, PORMPURAAW COUNCILLOR', 1),\n",
       " ('\\nRON KINGI', 1),\n",
       " ('\\nMYRON JOHNY, DOOMADGEE MAYOR', 1),\n",
       " ('\\nROBBIE KATTER, QLD MP', 1),\n",
       " ('\\nROBBIE KATTER', 1),\n",
       " ('\\nEMILY BAKER, REPORTER', 1),\n",
       " ('\\nPROF. ANDREA CARSON, LA TROBE UNIVERSITY', 1),\n",
       " ('\\nMAN', 1),\n",
       " ('\\nDAI LE, INDEPENDENT MP', 1),\n",
       " ('\\nANDY MARKS, POLITICAL SCIENTIST, WESTERN SYDNEY UNIVERSITY', 1),\n",
       " ('\\nVARUN MALHOTRA, NO CAMPAIGNER', 1),\n",
       " ('\\nJESS DIAZ, BLACKTOWN COUNCILLOR', 1),\n",
       " ('\\nPAUL HUY NGUYEN, FORMER VIETNAMESE COMMUNITY PRESIDENT', 1),\n",
       " ('\\nANDY MARKS', 1),\n",
       " ('\\nAMAR SINGH, YES CAMPAIGNER', 1),\n",
       " ('\\nWILL MURRAY, REPORTER', 1),\n",
       " ('\\nADAM HARVEY, REPORTER', 1),\n",
       " ('\\nKYAM MAHER, SA ATTORNEY GENERAL', 1),\n",
       " ('\\nKYAM MAHER', 1),\n",
       " ('\\nRACHEL PERKINS, YES SUPPORTER', 1),\n",
       " ('\\nJAMES STEVENS, FEDERAL LIBERAL MP', 1),\n",
       " ('\\nJAMES STEVENS', 1),\n",
       " ('\\nKEN WYATT, YES CAMPAIGNER', 1),\n",
       " ('\\nMICHAELIA CASH, SENATOR', 1),\n",
       " ('\\nINDIGENOUS WOMAN', 1),\n",
       " ('\\nJACINTA NAMPIJINPA PRICE, SENATOR', 1),\n",
       " ('\\nUNCLE MARTIN BALLANGARRY', 1),\n",
       " ('\\nUNCLE TREVOR BALLANGARRY', 1),\n",
       " ('\\nSPEAKER', 1),\n",
       " ('\\nDR CHELS MARSHALL', 1),\n",
       " ('\\nNOEL PEARSON, YES CAMPAIGNER', 1),\n",
       " ('\\nJACINTA PRICE, NT SENATOR', 1),\n",
       " ('\\nDEAN PARKIN, YES CAMPAIGNER', 1),\n",
       " ('\\nNED HARGRAVES, WALPIRI ELDER', 1),\n",
       " ('\\nTONY ABBOTT, FORMER PRIME MINISTER', 1),\n",
       " ('\\nPATRICK BEGLEY, REPORTER', 1),\n",
       " ('\\nSUSHI DAS, RMIT FACTLAB', 1),\n",
       " ('\\nPROF. ANNE TWOMEY, UNIVERSITY OF SYDNEY', 1),\n",
       " ('\\nCELESTE LIDDLE, INDIGENOUS RIGHTS ACTIVIST', 1),\n",
       " ('\\nCELESTE LIDDLE', 1),\n",
       " ('\\nGEOFF SCOTT, REFERENDUM COUNCIL', 1),\n",
       " ('\\nSTATEMENT FROM ADVANCE AUSTRALIA', 1),\n",
       " ('\\nPAULINE HANSON, ONE NATION SENATOR', 1),\n",
       " ('\\nDORINDA COX, GREENS SENATOR', 1),\n",
       " ('\\nCLERK', 1),\n",
       " ('\\nPAT ANDERSON, REFERENDUM WORKING GROUP', 1),\n",
       " ('\\nGORDON REID, LABOR MP', 1),\n",
       " ('\\nDORINDA COX', 1),\n",
       " ('\\nGORDON REID', 1),\n",
       " ('\\nMALARNDIRRI MCCARTHY', 1),\n",
       " ('\\nFIONA FOLEY, ARTIST', 1),\n",
       " ('\\nANNASTACIA PALASZCZUK, QLD PREMIER', 1),\n",
       " ('\\nDAVID CRISAFULLI, QLD OPPOSITION LEADER', 1),\n",
       " ('\\nMICK GOODA, INTERIM TRUTH AND TREATY BODY', 1),\n",
       " ('\\nANNASTACIA PALASZCZUK', 1),\n",
       " ('\\nIAN LEAVERS, QLD POLICE UNION', 1),\n",
       " ('\\nMICHAEL MANSELL, LAWYER AND ACTIVIST', 1),\n",
       " ('\\nCHELSEA WATEGO, ACADEMIC AND WRITER', 1),\n",
       " ('\\nANNE TWOMEY, PROFESSOR EMERITA, UNIVERSITY OF SYDNEY', 1),\n",
       " ('\\nMICK GOODA, QLD INTERIM TRUTH AND TREATY BODY', 1),\n",
       " ('\\nJOHN ANDERSON, NO CAMPAIGNER', 1),\n",
       " ('\\nMARCIA LANGTON, YES CAMPAIGNER', 1),\n",
       " ('\\nMICHAEL LONG, FORMER AFL PLAYER', 1),\n",
       " ('\\nJACINTA NAMPIJINPA PRICE, SHADOW MINISTRE FOR INDIGENOUS AUSTRALIA', 1),\n",
       " ('\\nKERRYNNE LIDDLE, SHADOW MINISTER FOR CHILD PROTECTION', 1),\n",
       " ('\\nDAVID SPEERS, PRESENTER', 1),\n",
       " ('\\nKERRYNNE LIDDLE SHADOW MINISTER FOR CHILD PROTECTION', 1),\n",
       " ('\\nPROTESTER', 1),\n",
       " ('\\nASSOC. PROF. PAUL WILLIAMS, GRIFFITH UNIVERSITY', 1),\n",
       " ('\\nANNETTE XIBERRAS, WURUNDJERI ELDER', 1),\n",
       " ('\\nSHOP OWNER', 1),\n",
       " ('\\nNADIA DALY, REPORTER', 1),\n",
       " ('\\nDJAWA YUNUPINGU, YOTHU YINDI FOUNDATION BOARD', 1),\n",
       " ('\\nJACINTA NAMPIJINPA PRICE, SHADOW MINISTER FOR INDIGENOUS AUSTRALIANS', 1),\n",
       " ('\\nPETER STEFANOVIC, SKY NEWS', 1),\n",
       " ('\\nJACQUI LAMBIE, SENATOR, JACQUI LAMBIE NETWORK', 1),\n",
       " ('\\nDAVID SPEERS, INSIDERS', 1),\n",
       " ('\\nJENNY WARE, LIBERAL MP', 1),\n",
       " ('\\nCREDIT', 1)]"
      ]
     },
     "execution_count": 47,
     "metadata": {},
     "output_type": "execute_result"
    }
   ],
   "source": [
    "name_count = defaultdict(int)\n",
    "for name in name_list:\n",
    "    name_count[name] += 1\n",
    "count_rank = sorted(name_count.items(), key=lambda x: x[1], reverse=True)\n",
    "count_rank"
   ]
  },
  {
   "cell_type": "code",
   "execution_count": null,
   "metadata": {},
   "outputs": [],
   "source": []
  },
  {
   "cell_type": "code",
   "execution_count": null,
   "metadata": {},
   "outputs": [],
   "source": []
  }
 ],
 "metadata": {
  "kernelspec": {
   "display_name": "comp90055",
   "language": "python",
   "name": "python3"
  },
  "language_info": {
   "codemirror_mode": {
    "name": "ipython",
    "version": 3
   },
   "file_extension": ".py",
   "mimetype": "text/x-python",
   "name": "python",
   "nbconvert_exporter": "python",
   "pygments_lexer": "ipython3",
   "version": "3.10.13"
  }
 },
 "nbformat": 4,
 "nbformat_minor": 2
}
